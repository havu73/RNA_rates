{
 "cells": [
  {
   "cell_type": "markdown",
   "source": [
    "The conclusion from this analysis is that pytorch is way better at solving Ah=b then numpy and scipy maximinzation methods"
   ],
   "metadata": {
    "collapsed": false
   },
   "id": "53682307d0e2a425"
  },
  {
   "cell_type": "code",
   "execution_count": 1,
   "outputs": [],
   "source": [
    "import numpy as np\n",
    "import pandas as pd\n",
    "def findA(x0, x1, endpoints):\n",
    "    '''\n",
    "    Endpoints will have length m+1, where m is the number of bins for which we will find the elongation rates for.\n",
    "    Endpoitns should have the first element equal to the start of the gene. The last element tends to be np.inf\n",
    "    bc we may assume that the reads can run to beyond the end of the genes.\n",
    "    :param x0:\n",
    "    :param x1:\n",
    "    :param endpoints:\n",
    "    :return:\n",
    "    '''\n",
    "    assert len(x0)==len(x1), \"x0 and x1 must have the same length\"\n",
    "    n = len(x0)\n",
    "    m = len(endpoints) - 1  # endpoints include the first position in the gene, so the number of features is len(endpoints)-1, with the last feature corresponding to the run through region\n",
    "    A = np.zeros((n, m))  # this is the coefficient matrix that we will construct. Each entry corresponds to the length of the portion within the segment between x0 and x1 that falls within the feature of endpoints\n",
    "    for sample_idx in range(n):\n",
    "        this_x0 = x0[sample_idx]\n",
    "        this_x1 = x1[sample_idx]\n",
    "        for i in range(m):\n",
    "            if this_x0 < endpoints[i]:\n",
    "                break\n",
    "            if this_x0 > endpoints[i + 1]:  # this entry starts after the end of this feature\n",
    "                continue\n",
    "            if this_x1 < endpoints[i]:  # this entry ends before the start of this feature\n",
    "                break  # no need to continue since A is initally filled with zeros\n",
    "            if this_x0 >= endpoints[i] and this_x0 < endpoints[i + 1]:  # this entry starts within this feature\n",
    "                if this_x1 > endpoints[i + 1]:  # this entry ends after the end of this feature\n",
    "                    A[sample_idx, i] = endpoints[i + 1] - this_x0\n",
    "                    this_x0 = endpoints[i + 1]\n",
    "                    continue  # go to the next feature\n",
    "                else:  # this entry ends within this feature\n",
    "                    A[sample_idx, i] = this_x1 - this_x0\n",
    "                    break  # no need to continue to the following features since A is initally filled with zeros\n",
    "    return A\n"
   ],
   "metadata": {
    "collapsed": false,
    "ExecuteTime": {
     "end_time": "2024-07-03T19:01:10.899861Z",
     "start_time": "2024-07-03T19:01:10.716809Z"
    }
   },
   "id": "initial_id"
  },
  {
   "cell_type": "code",
   "execution_count": 2,
   "outputs": [],
   "source": [
    "fn = '/gladstone/engelhardt/home/hvu/source/RNA_rates/splicingrates/simulations/tests/time_0.csv.gz'\n",
    "df = pd.read_csv(fn, header=0, index_col=None, sep = '\\t')\n",
    "x0 = df.x0\n",
    "x1 = df.x1\n",
    "fixed_breaks = np.arange(0, 4.81, 0.2)\n",
    "fixed_breaks = np.append(fixed_breaks, np.inf)\n",
    "A= findA(x0, x1, fixed_breaks)\n",
    "b = np.ones(A.shape[0]) * 5"
   ],
   "metadata": {
    "collapsed": false,
    "ExecuteTime": {
     "end_time": "2024-07-03T19:01:11.795736Z",
     "start_time": "2024-07-03T19:01:11.732989Z"
    }
   },
   "id": "f842d99c89212517"
  },
  {
   "cell_type": "code",
   "execution_count": 9,
   "outputs": [
    {
     "name": "stdout",
     "output_type": "stream",
     "text": [
      "[0.32288387 0.36150963 2.11352436 0.44213009 0.17069606 0.64227488\n",
      " 0.35421053 0.16343612 0.70476245 0.24352368 0.63561532 0.42460633\n",
      " 0.23427922 0.51260234 0.41611364 0.21128842 0.35567557 0.21304939\n",
      " 0.87780313 0.42324577 0.2067653  0.57357912 0.60617981 0.20837057\n",
      " 0.32998998]\n"
     ]
    }
   ],
   "source": [
    "# Solve using numpy's least squares\n",
    "h_inv, residuals, rank, s = np.linalg.lstsq(A, b, rcond=None)\n",
    "\n",
    "print(1/h_inv)"
   ],
   "metadata": {
    "collapsed": false,
    "ExecuteTime": {
     "end_time": "2024-07-03T01:06:21.779621Z",
     "start_time": "2024-07-03T01:06:21.773243Z"
    }
   },
   "id": "379a711d17c7dea0"
  },
  {
   "cell_type": "code",
   "execution_count": 9,
   "outputs": [
    {
     "name": "stdout",
     "output_type": "stream",
     "text": [
      "[0.32288387 0.36150963 2.11352436 0.44213009 0.17069606 0.64227488\n",
      " 0.35421053 0.16343612 0.70476245 0.24352368 0.63561532 0.42460633\n",
      " 0.23427922 0.51260234 0.41611364 0.21128842 0.35567557 0.21304939\n",
      " 0.87780313 0.42324577 0.2067653  0.57357912 0.60617981 0.20837057\n",
      " 0.32998998]\n"
     ]
    }
   ],
   "source": [
    "from scipy.linalg import lstsq\n",
    "\n",
    "# Solve using scipy's least squares\n",
    "h_inv, residuals, rank, s = lstsq(A, b)\n",
    "\n",
    "print(1/h_inv)\n"
   ],
   "metadata": {
    "collapsed": false,
    "ExecuteTime": {
     "end_time": "2024-07-03T00:56:30.646260Z",
     "start_time": "2024-07-03T00:56:30.642098Z"
    }
   },
   "id": "8000b3e60acbf132"
  },
  {
   "cell_type": "code",
   "execution_count": 13,
   "outputs": [
    {
     "name": "stdout",
     "output_type": "stream",
     "text": [
      "Epoch 0, Loss: 24.965911865234375\n",
      "Epoch 100, Loss: 12.043517112731934\n",
      "Epoch 200, Loss: 5.085347652435303\n",
      "Epoch 300, Loss: 1.8775923252105713\n",
      "Epoch 400, Loss: 0.623275637626648\n",
      "Epoch 500, Loss: 0.20617185533046722\n",
      "Epoch 600, Loss: 0.08520952612161636\n",
      "Epoch 700, Loss: 0.05272015929222107\n",
      "Epoch 800, Loss: 0.04339741915464401\n",
      "Epoch 900, Loss: 0.039718419313430786\n",
      "Epoch 1000, Loss: 0.03749248757958412\n",
      "Epoch 1100, Loss: 0.03576952964067459\n",
      "Epoch 1200, Loss: 0.0343201644718647\n",
      "Epoch 1300, Loss: 0.033072683960199356\n",
      "Epoch 1400, Loss: 0.03199253976345062\n",
      "Epoch 1500, Loss: 0.031055303290486336\n",
      "Epoch 1600, Loss: 0.030239850282669067\n",
      "Epoch 1700, Loss: 0.029527030885219574\n",
      "Epoch 1800, Loss: 0.028899643570184708\n",
      "Epoch 1900, Loss: 0.02834259532392025\n",
      "Epoch 2000, Loss: 0.027843181043863297\n",
      "Epoch 2100, Loss: 0.02739091031253338\n",
      "Epoch 2200, Loss: 0.026977432891726494\n",
      "Epoch 2300, Loss: 0.02659621648490429\n",
      "Epoch 2400, Loss: 0.026242202147841454\n",
      "Epoch 2500, Loss: 0.025911519303917885\n",
      "Epoch 2600, Loss: 0.02560117468237877\n",
      "Epoch 2700, Loss: 0.025308744981884956\n",
      "Epoch 2800, Loss: 0.02503230795264244\n",
      "Epoch 2900, Loss: 0.024770161136984825\n",
      "Epoch 3000, Loss: 0.024520879611372948\n",
      "Epoch 3100, Loss: 0.02428313158452511\n",
      "Epoch 3200, Loss: 0.02405574545264244\n",
      "Epoch 3300, Loss: 0.02383766509592533\n",
      "Epoch 3400, Loss: 0.023627953603863716\n",
      "Epoch 3500, Loss: 0.023425793275237083\n",
      "Epoch 3600, Loss: 0.023230498656630516\n",
      "Epoch 3700, Loss: 0.0230414979159832\n",
      "Epoch 3800, Loss: 0.022858330979943275\n",
      "Epoch 3900, Loss: 0.022680632770061493\n",
      "Epoch 4000, Loss: 0.022508129477500916\n",
      "Epoch 4100, Loss: 0.022340603172779083\n",
      "Epoch 4200, Loss: 0.02217790298163891\n",
      "Epoch 4300, Loss: 0.022019892930984497\n",
      "Epoch 4400, Loss: 0.021866468712687492\n",
      "Epoch 4500, Loss: 0.02171749621629715\n",
      "Epoch 4600, Loss: 0.02157287672162056\n",
      "Epoch 4700, Loss: 0.021432481706142426\n",
      "Epoch 4800, Loss: 0.021296169608831406\n",
      "Epoch 4900, Loss: 0.021163757890462875\n",
      "[0.3015322  0.6815822  0.5532017  0.3350153  0.2837814  0.25949633\n",
      " 0.28646648 0.25966343 0.3786671  0.3700828  0.33937424 0.36959156\n",
      " 0.40094063 0.33975565 0.26238433 0.3294895  0.29529697 0.28115213\n",
      " 0.41169348 0.4200839  0.24826449 0.57037896 0.33532235 0.25912237\n",
      " 0.32958275]\n",
      "(25,)\n"
     ]
    }
   ],
   "source": [
    "import torch\n",
    "\n",
    "# Initialize h with requires_grad=True\n",
    "h_inv = torch.randn(len(fixed_breaks)-1, 1, requires_grad=True)\n",
    "At = torch.tensor(A).float()\n",
    "bt = torch.tensor(b).float().unsqueeze(1)\n",
    "# Define the optimizer\n",
    "optimizer = torch.optim.Adam([h_inv], lr=0.01)\n",
    "\n",
    "# Define the loss function\n",
    "loss_fn = torch.nn.MSELoss()\n",
    "\n",
    "# Training loop\n",
    "num_epochs = 5000\n",
    "for epoch in range(num_epochs):\n",
    "    optimizer.zero_grad()  # Zero the gradients\n",
    "    Ah = torch.mm(At, h_inv)  # Compute Ah\n",
    "    loss = loss_fn(Ah, bt)  # Compute the loss\n",
    "    loss.backward()  # Backpropagate the loss\n",
    "    optimizer.step()  # Update h\n",
    "\n",
    "    if epoch % 100 == 0:\n",
    "        print(f\"Epoch {epoch}, Loss: {loss.item()}\")\n",
    "\n",
    "h = 1 / h_inv.detach().numpy().flatten()\n",
    "print(h)\n",
    "print(h.shape)\n"
   ],
   "metadata": {
    "collapsed": false,
    "ExecuteTime": {
     "end_time": "2024-07-03T19:13:17.356371Z",
     "start_time": "2024-07-03T19:13:14.933230Z"
    }
   },
   "id": "dec6fe12b859a603"
  },
  {
   "cell_type": "code",
   "execution_count": null,
   "outputs": [],
   "source": [],
   "metadata": {
    "collapsed": false
   },
   "id": "fd618b5b21984c19"
  }
 ],
 "metadata": {
  "kernelspec": {
   "name": "new_rna",
   "language": "python",
   "display_name": "Python (new_rna)"
  },
  "language_info": {
   "codemirror_mode": {
    "name": "ipython",
    "version": 2
   },
   "file_extension": ".py",
   "mimetype": "text/x-python",
   "name": "python",
   "nbconvert_exporter": "python",
   "pygments_lexer": "ipython2",
   "version": "2.7.6"
  }
 },
 "nbformat": 4,
 "nbformat_minor": 5
}
