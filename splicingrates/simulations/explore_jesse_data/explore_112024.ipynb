{
 "cells": [
  {
   "metadata": {
    "ExecuteTime": {
     "end_time": "2024-11-22T17:50:14.783681Z",
     "start_time": "2024-11-22T17:50:14.768653Z"
    }
   },
   "cell_type": "code",
   "source": [
    "import os\n",
    "import numpy as np\n",
    "import scipy\n",
    "import seaborn as sns\n",
    "# add the path of the parent directory to the path\n",
    "import sys\n",
    "sys.path.append('../')\n",
    "from transcription.experiment import Experiment\n",
    "from transcription import simulate_multiple_experiments as sim\n",
    "import visualize_simulations as viz\n",
    "import matplotlib.pyplot as plt\n",
    "from transcription import from_reads_to_coverage as read2cov\n",
    "plt.style.use('default')\n",
    "plt.rcParams['figure.facecolor'] = 'white'\n",
    "import helper\n",
    "import pandas as pd \n",
    "ONE_KB=1000\n",
    "SIM_FEAT_LEN = 5000 # length of one feature in the simulation\n",
    "SEED = 9999\n",
    "np.random.seed(SEED)"
   ],
   "id": "cb08a372c30e4167",
   "outputs": [
    {
     "name": "stdout",
     "output_type": "stream",
     "text": [
      "importing simulate_multiple_experiments\n"
     ]
    }
   ],
   "execution_count": 7
  },
  {
   "metadata": {
    "collapsed": true,
    "ExecuteTime": {
     "end_time": "2024-11-22T17:50:19.968776Z",
     "start_time": "2024-11-22T17:50:19.935907Z"
    }
   },
   "cell_type": "code",
   "source": [
    "import pandas as pd\n",
    "import numpy as np\n",
    "fn1 = '/gladstone/engelhardt/lab/hvu/RNA_rates/data_from_jesse/ENSG00000000003_nt_coverage_0-5.bed'\n",
    "fn2 = '/gladstone/engelhardt/lab/hvu/RNA_rates/data_from_jesse/ENSG00000000003_nt_coverage_5-10.bed'\n",
    "fn3 = '/gladstone/engelhardt/lab/hvu/RNA_rates/data_from_jesse/ENSG00000000003_nt_coverage_10-15.bed'\n",
    "\n",
    "def read_one_file(fn, timepoint=None):\n",
    "    df = pd.read_csv(fn, sep='\\t', header=None)\n",
    "    df.columns = ['chrom', 'start', 'end', 'gene', 'dot', 'strand', 'coord', 'coverage']\n",
    "    if timepoint is not None:\n",
    "        df.rename(columns={'coverage':  timepoint}, inplace=True)\n",
    "    return df\n",
    "\n",
    "def merge_dfs(df_list):\n",
    "    '''\n",
    "    Given all the df, merge them by the coord column\n",
    "    :param df_list: \n",
    "    :return: \n",
    "    '''\n",
    "    df = df_list[0]\n",
    "    for i in range(1, len(df_list)):\n",
    "        df = pd.merge(df, df_list[i][['coord', i]], on='coord', how='outer')\n",
    "    return df\n",
    "\n",
    "df1 = read_one_file(fn1, 0)\n",
    "df2 = read_one_file(fn2, 1)\n",
    "df3 = read_one_file(fn3, 2)\n",
    "df = merge_dfs([df1, df2, df3])"
   ],
   "id": "initial_id",
   "outputs": [],
   "execution_count": 8
  },
  {
   "metadata": {
    "ExecuteTime": {
     "end_time": "2024-11-22T18:17:55.734962Z",
     "start_time": "2024-11-22T18:17:11.121238Z"
    }
   },
   "cell_type": "code",
   "source": [
    "plot_df = df[[0,1,2]].copy()\n",
    "# plot_df[1] = plot_df[1] + plot_df[0]\n",
    "# plot_df[2] = plot_df[2] + plot_df[1]\n",
    "viz._plot_barplot_for_coverage(plot_df, xaxis_N=100, title=None, xlabel='Position', ylabel='coverage', figsize=(6,3), cmap_color= 'Blues', stacked=True, width=0.9, ax=None, grid=False, ylim=(0,300), xlim=(0,1300), save_fn='trial.png')"
   ],
   "id": "251d5647c1635eeb",
   "outputs": [
    {
     "name": "stdout",
     "output_type": "stream",
     "text": [
      "xlim: (0, 1300)\n",
      "       0  1  2\n",
      "12878  0  0  0\n",
      "12879  0  0  0\n",
      "12880  0  0  0\n",
      "12881  0  0  0\n",
      "12882  0  0  0\n"
     ]
    },
    {
     "data": {
      "text/plain": [
       "<Figure size 600x300 with 1 Axes>"
      ],
      "image/png": "[encoded data removed]"
     },
     "metadata": {},
     "output_type": "display_data"
    }
   ],
   "execution_count": 11
  },
  {
   "metadata": {
    "ExecuteTime": {
     "end_time": "2024-11-22T17:49:03.849492Z",
     "start_time": "2024-11-22T17:49:03.843234Z"
    }
   },
   "cell_type": "code",
   "source": "",
   "id": "55690851a9e6000e",
   "outputs": [
    {
     "data": {
      "text/plain": [
       "      chrom      start        end             gene dot strand  coord  0  1  2\n",
       "0         X  100627108  100639991  ENSG00000000003   .      -      1  0  0  0\n",
       "1         X  100627108  100639991  ENSG00000000003   .      -      2  0  0  0\n",
       "2         X  100627108  100639991  ENSG00000000003   .      -      3  0  0  0\n",
       "3         X  100627108  100639991  ENSG00000000003   .      -      4  0  0  0\n",
       "4         X  100627108  100639991  ENSG00000000003   .      -      5  0  0  0\n",
       "...     ...        ...        ...              ...  ..    ...    ... .. .. ..\n",
       "12878     X  100627108  100639991  ENSG00000000003   .      -  12879  0  0  0\n",
       "12879     X  100627108  100639991  ENSG00000000003   .      -  12880  0  0  0\n",
       "12880     X  100627108  100639991  ENSG00000000003   .      -  12881  0  0  0\n",
       "12881     X  100627108  100639991  ENSG00000000003   .      -  12882  0  0  0\n",
       "12882     X  100627108  100639991  ENSG00000000003   .      -  12883  0  0  0\n",
       "\n",
       "[12883 rows x 10 columns]"
      ],
      "text/html": [
       "<div>\n",
       "<style scoped>\n",
       "    .dataframe tbody tr th:only-of-type {\n",
       "        vertical-align: middle;\n",
       "    }\n",
       "\n",
       "    .dataframe tbody tr th {\n",
       "        vertical-align: top;\n",
       "    }\n",
       "\n",
       "    .dataframe thead th {\n",
       "        text-align: right;\n",
       "    }\n",
       "</style>\n",
       "<table border=\"1\" class=\"dataframe\">\n",
       "  <thead>\n",
       "    <tr style=\"text-align: right;\">\n",
       "      <th></th>\n",
       "      <th>chrom</th>\n",
       "      <th>start</th>\n",
       "      <th>end</th>\n",
       "      <th>gene</th>\n",
       "      <th>dot</th>\n",
       "      <th>strand</th>\n",
       "      <th>coord</th>\n",
       "      <th>0</th>\n",
       "      <th>1</th>\n",
       "      <th>2</th>\n",
       "    </tr>\n",
       "  </thead>\n",
       "  <tbody>\n",
       "    <tr>\n",
       "      <th>0</th>\n",
       "      <td>X</td>\n",
       "      <td>100627108</td>\n",
       "      <td>100639991</td>\n",
       "      <td>ENSG00000000003</td>\n",
       "      <td>.</td>\n",
       "      <td>-</td>\n",
       "      <td>1</td>\n",
       "      <td>0</td>\n",
       "      <td>0</td>\n",
       "      <td>0</td>\n",
       "    </tr>\n",
       "    <tr>\n",
       "      <th>1</th>\n",
       "      <td>X</td>\n",
       "      <td>100627108</td>\n",
       "      <td>100639991</td>\n",
       "      <td>ENSG00000000003</td>\n",
       "      <td>.</td>\n",
       "      <td>-</td>\n",
       "      <td>2</td>\n",
       "      <td>0</td>\n",
       "      <td>0</td>\n",
       "      <td>0</td>\n",
       "    </tr>\n",
       "    <tr>\n",
       "      <th>2</th>\n",
       "      <td>X</td>\n",
       "      <td>100627108</td>\n",
       "      <td>100639991</td>\n",
       "      <td>ENSG00000000003</td>\n",
       "      <td>.</td>\n",
       "      <td>-</td>\n",
       "      <td>3</td>\n",
       "      <td>0</td>\n",
       "      <td>0</td>\n",
       "      <td>0</td>\n",
       "    </tr>\n",
       "    <tr>\n",
       "      <th>3</th>\n",
       "      <td>X</td>\n",
       "      <td>100627108</td>\n",
       "      <td>100639991</td>\n",
       "      <td>ENSG00000000003</td>\n",
       "      <td>.</td>\n",
       "      <td>-</td>\n",
       "      <td>4</td>\n",
       "      <td>0</td>\n",
       "      <td>0</td>\n",
       "      <td>0</td>\n",
       "    </tr>\n",
       "    <tr>\n",
       "      <th>4</th>\n",
       "      <td>X</td>\n",
       "      <td>100627108</td>\n",
       "      <td>100639991</td>\n",
       "      <td>ENSG00000000003</td>\n",
       "      <td>.</td>\n",
       "      <td>-</td>\n",
       "      <td>5</td>\n",
       "      <td>0</td>\n",
       "      <td>0</td>\n",
       "      <td>0</td>\n",
       "    </tr>\n",
       "    <tr>\n",
       "      <th>...</th>\n",
       "      <td>...</td>\n",
       "      <td>...</td>\n",
       "      <td>...</td>\n",
       "      <td>...</td>\n",
       "      <td>...</td>\n",
       "      <td>...</td>\n",
       "      <td>...</td>\n",
       "      <td>...</td>\n",
       "      <td>...</td>\n",
       "      <td>...</td>\n",
       "    </tr>\n",
       "    <tr>\n",
       "      <th>12878</th>\n",
       "      <td>X</td>\n",
       "      <td>100627108</td>\n",
       "      <td>100639991</td>\n",
       "      <td>ENSG00000000003</td>\n",
       "      <td>.</td>\n",
       "      <td>-</td>\n",
       "      <td>12879</td>\n",
       "      <td>0</td>\n",
       "      <td>0</td>\n",
       "      <td>0</td>\n",
       "    </tr>\n",
       "    <tr>\n",
       "      <th>12879</th>\n",
       "      <td>X</td>\n",
       "      <td>100627108</td>\n",
       "      <td>100639991</td>\n",
       "      <td>ENSG00000000003</td>\n",
       "      <td>.</td>\n",
       "      <td>-</td>\n",
       "      <td>12880</td>\n",
       "      <td>0</td>\n",
       "      <td>0</td>\n",
       "      <td>0</td>\n",
       "    </tr>\n",
       "    <tr>\n",
       "      <th>12880</th>\n",
       "      <td>X</td>\n",
       "      <td>100627108</td>\n",
       "      <td>100639991</td>\n",
       "      <td>ENSG00000000003</td>\n",
       "      <td>.</td>\n",
       "      <td>-</td>\n",
       "      <td>12881</td>\n",
       "      <td>0</td>\n",
       "      <td>0</td>\n",
       "      <td>0</td>\n",
       "    </tr>\n",
       "    <tr>\n",
       "      <th>12881</th>\n",
       "      <td>X</td>\n",
       "      <td>100627108</td>\n",
       "      <td>100639991</td>\n",
       "      <td>ENSG00000000003</td>\n",
       "      <td>.</td>\n",
       "      <td>-</td>\n",
       "      <td>12882</td>\n",
       "      <td>0</td>\n",
       "      <td>0</td>\n",
       "      <td>0</td>\n",
       "    </tr>\n",
       "    <tr>\n",
       "      <th>12882</th>\n",
       "      <td>X</td>\n",
       "      <td>100627108</td>\n",
       "      <td>100639991</td>\n",
       "      <td>ENSG00000000003</td>\n",
       "      <td>.</td>\n",
       "      <td>-</td>\n",
       "      <td>12883</td>\n",
       "      <td>0</td>\n",
       "      <td>0</td>\n",
       "      <td>0</td>\n",
       "    </tr>\n",
       "  </tbody>\n",
       "</table>\n",
       "<p>12883 rows × 10 columns</p>\n",
       "</div>"
      ]
     },
     "execution_count": 6,
     "metadata": {},
     "output_type": "execute_result"
    }
   ],
   "execution_count": 6
  },
  {
   "metadata": {
    "ExecuteTime": {
     "end_time": "2024-11-22T17:46:18.463296Z",
     "start_time": "2024-11-22T17:46:18.460699Z"
    }
   },
   "cell_type": "code",
   "source": "df.shape",
   "id": "5eb4393a323039ef",
   "outputs": [
    {
     "data": {
      "text/plain": [
       "(12883, 22)"
      ]
     },
     "execution_count": 3,
     "metadata": {},
     "output_type": "execute_result"
    }
   ],
   "execution_count": 3
  },
  {
   "metadata": {},
   "cell_type": "code",
   "outputs": [],
   "execution_count": null,
   "source": "",
   "id": "2a2c223c8e98d26b"
  }
 ],
 "metadata": {
  "kernelspec": {
   "display_name": "Python 3",
   "language": "python",
   "name": "python3"
  },
  "language_info": {
   "codemirror_mode": {
    "name": "ipython",
    "version": 2
   },
   "file_extension": ".py",
   "mimetype": "text/x-python",
   "name": "python",
   "nbconvert_exporter": "python",
   "pygments_lexer": "ipython2",
   "version": "2.7.6"
  }
 },
 "nbformat": 4,
 "nbformat_minor": 5
}
