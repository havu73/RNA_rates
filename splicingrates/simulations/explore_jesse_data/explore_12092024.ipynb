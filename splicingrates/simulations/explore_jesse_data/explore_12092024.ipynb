{
 "cells": [
  {
   "metadata": {
    "ExecuteTime": {
     "end_time": "2024-12-11T22:17:56.931226Z",
     "start_time": "2024-12-11T22:17:54.070497Z"
    }
   },
   "cell_type": "code",
   "source": [
    "import os\n",
    "import numpy as np\n",
    "import seaborn as sns\n",
    "# add the path of the parent directory to the path\n",
    "import sys\n",
    "\n",
    "sys.path.append('../')\n",
    "import visualize_simulations as viz\n",
    "import matplotlib.pyplot as plt\n",
    "plt.style.use('default')\n",
    "plt.rcParams['figure.facecolor'] = 'white'\n",
    "from estimates.elongation import estElong, find_gap\n",
    "import helper\n",
    "import pandas as pd \n",
    "ONE_KB=1000\n",
    "SIM_FEAT_LEN = 5000 # length of one feature in the simulation\n",
    "SEED = 9999\n",
    "np.random.seed(SEED)"
   ],
   "id": "cb08a372c30e4167",
   "outputs": [
    {
     "name": "stdout",
     "output_type": "stream",
     "text": [
      "Using cuda device\n"
     ]
    }
   ],
   "execution_count": 2
  },
  {
   "metadata": {
    "collapsed": true,
    "ExecuteTime": {
     "end_time": "2024-12-11T22:17:59.307063Z",
     "start_time": "2024-12-11T22:17:58.774542Z"
    }
   },
   "cell_type": "code",
   "source": [
    "import pandas as pd\n",
    "import numpy as np\n",
    "gene_name = 'ENSG00000003989'\n",
    "fn1 = f'/gladstone/engelhardt/lab/hvu/RNA_rates/data_from_jesse/{gene_name}/{gene_name}_nt_coverage_0-5.bed'\n",
    "fn2 = f'/gladstone/engelhardt/lab/hvu/RNA_rates/data_from_jesse/{gene_name}/{gene_name}_nt_coverage_5-10.bed'\n",
    "fn3 = f'/gladstone/engelhardt/lab/hvu/RNA_rates/data_from_jesse/{gene_name}/{gene_name}_nt_coverage_10-15.bed'\n",
    "\n",
    "def read_one_file(fn, timepoint=None):\n",
    "    df = pd.read_csv(fn, sep='\\t', header=None)\n",
    "    df.columns = ['chrom', 'start', 'end', 'gene', 'dot', 'strand', 'coord', 'coverage']\n",
    "    if timepoint is not None:\n",
    "        df.rename(columns={'coverage':  timepoint}, inplace=True)\n",
    "    return df\n",
    "\n",
    "def merge_dfs(df_list):\n",
    "    '''\n",
    "    Given all the df, merge them by the coord column\n",
    "    :param df_list: \n",
    "    :return: \n",
    "    '''\n",
    "    df = df_list[0]\n",
    "    for i in range(1, len(df_list)):\n",
    "        df = pd.merge(df, df_list[i][['coord', i]], on='coord', how='outer')\n",
    "    return df\n",
    "\n",
    "df1 = read_one_file(fn1, 0)\n",
    "df2 = read_one_file(fn2, 1)\n",
    "df3 = read_one_file(fn3, 2)\n",
    "df = merge_dfs([df1, df2, df3])"
   ],
   "id": "initial_id",
   "outputs": [],
   "execution_count": 3
  },
  {
   "metadata": {
    "ExecuteTime": {
     "end_time": "2024-12-10T16:59:03.878987Z",
     "start_time": "2024-12-10T16:59:01.817892Z"
    }
   },
   "cell_type": "code",
   "source": [
    "plot_df = df[[0,1,2, 'coord']].copy()\n",
    "plot_df.set_index('coord', inplace=True)\n",
    "# get only every 10 rows to make the plot more readable\n",
    "plot_df = plot_df.iloc[::100]\n",
    "figsize=(6,3)\n",
    "num_categories = 3\n",
    "cmap = sns.color_palette('PuRd', n_colors=num_categories)\n",
    "colors = [cmap[i] for i in range(num_categories)]\n",
    "fig, ax = plt.subplots(figsize=figsize)\n",
    "plot_df.plot(kind='bar', stacked=True, color=colors, ax=ax, alpha = 0.8)\n",
    "xmax = plot_df.index[-1]\n",
    "print(xmax)\n",
    "# Set xticks to correspond to each entry in the downsampled DataFrame\n",
    "step = 100\n",
    "ax.set_xticks(range(0, len(plot_df), step))\n",
    "ax.set_xticklabels(plot_df.index[::step], rotation=90)\n",
    "\n",
    "# write only the xticks that are multiples of 1000\n",
    "ax.set_xlabel('Position')\n",
    "ax.set_ylabel('coverage')\n",
    "ax.set_title('Coverage of the gene')\n",
    "plt.tight_layout()\n",
    "plt.show()"
   ],
   "id": "251d5647c1635eeb",
   "outputs": [
    {
     "name": "stdout",
     "output_type": "stream",
     "text": [
      "73401\n"
     ]
    },
    {
     "data": {
      "text/plain": [
       "<Figure size 600x300 with 1 Axes>"
      ],
      "image/png": "[encoded data removed]"
     },
     "metadata": {},
     "output_type": "display_data"
    }
   ],
   "execution_count": 18
  },
  {
   "metadata": {
    "ExecuteTime": {
     "end_time": "2024-12-11T22:18:04.266885Z",
     "start_time": "2024-12-11T22:18:04.093481Z"
    }
   },
   "cell_type": "code",
   "source": [
    "def transform_jesse_gtf_df(df):\n",
    "    df = df[['nucleotide_coord', 'rate_for_this_nt']].copy()\n",
    "    # Step 1: Rename the columns\n",
    "    df = df.rename(columns={'nucleotide_coord': 'end', 'rate_for_this_nt': 'true_h'})\n",
    "    # Step 2: Create a start column\n",
    "    df['start'] = df['end'] - 1\n",
    "    df['diff'] = df['true_h'].diff()\n",
    "    df['diff'] = df['diff'].fillna(0)\n",
    "    df['group'] = (df['diff'] != 0).cumsum()\n",
    "    output_df = df.groupby('group').agg({'start': 'first', 'end': 'last', 'true_h': 'first'}).reset_index(drop=True)\n",
    "    output_df['length'] = output_df['end'] - output_df['start']\n",
    "    output_df['feature'] = 'gene'\n",
    "    return output_df\n",
    "\n",
    "gtf_fn = '/gladstone/engelhardt/lab/hvu/RNA_rates/data_from_jesse/ENSG00000003989/ENSG00000003989_ENST00000494857_RegionSizeRange_5000-5000_ElongationRateRange_500-5000_PauseRate_1_PauseChance_0.0_ntRatesandTraversalTimes.gtf'\n",
    "gtf_df = pd.read_csv(gtf_fn, header = 0, index_col = None, sep = '\\t')\n",
    "clean_gtf_df = transform_jesse_gtf_df(gtf_df)"
   ],
   "id": "5eb4393a323039ef",
   "outputs": [],
   "execution_count": 4
  },
  {
   "metadata": {
    "ExecuteTime": {
     "end_time": "2024-12-11T22:22:36.034091Z",
     "start_time": "2024-12-11T22:22:35.932182Z"
    }
   },
   "cell_type": "code",
   "source": [
    "coverage_df = df[['coord',0,1,2]].copy()\n",
    "coverage_df.rename({'coord': 'position'}, axis=1, inplace=True)\n",
    "import importlib\n",
    "importlib.reload(estElong)\n",
    "elong_estimator = estElong(coverage_df, clean_gtf_df, h_bin_bp=[100, 500, 1000, 2000], output_folder='/gladstone/engelhardt/lab/hvu/RNA_rates/data_from_jesse/ENSG00000003989')\n",
    "elong_estimator.estimate()"
   ],
   "id": "2a2c223c8e98d26b",
   "outputs": [
    {
     "ename": "ImportError",
     "evalue": "module estElong not in sys.modules",
     "output_type": "error",
     "traceback": [
      "\u001B[0;31m---------------------------------------------------------------------------\u001B[0m",
      "\u001B[0;31mImportError\u001B[0m                               Traceback (most recent call last)",
      "Cell \u001B[0;32mIn[6], line 4\u001B[0m\n\u001B[1;32m      2\u001B[0m coverage_df\u001B[38;5;241m.\u001B[39mrename({\u001B[38;5;124m'\u001B[39m\u001B[38;5;124mcoord\u001B[39m\u001B[38;5;124m'\u001B[39m: \u001B[38;5;124m'\u001B[39m\u001B[38;5;124mposition\u001B[39m\u001B[38;5;124m'\u001B[39m}, axis\u001B[38;5;241m=\u001B[39m\u001B[38;5;241m1\u001B[39m, inplace\u001B[38;5;241m=\u001B[39m\u001B[38;5;28;01mTrue\u001B[39;00m)\n\u001B[1;32m      3\u001B[0m \u001B[38;5;28;01mimport\u001B[39;00m \u001B[38;5;21;01mimportlib\u001B[39;00m\n\u001B[0;32m----> 4\u001B[0m \u001B[43mimportlib\u001B[49m\u001B[38;5;241;43m.\u001B[39;49m\u001B[43mreload\u001B[49m\u001B[43m(\u001B[49m\u001B[43mestElong\u001B[49m\u001B[43m)\u001B[49m\n\u001B[1;32m      5\u001B[0m elong_estimator \u001B[38;5;241m=\u001B[39m estElong(coverage_df, clean_gtf_df, h_bin_bp\u001B[38;5;241m=\u001B[39m[\u001B[38;5;241m100\u001B[39m, \u001B[38;5;241m500\u001B[39m, \u001B[38;5;241m1000\u001B[39m, \u001B[38;5;241m2000\u001B[39m], output_folder\u001B[38;5;241m=\u001B[39m\u001B[38;5;124m'\u001B[39m\u001B[38;5;124m/gladstone/engelhardt/lab/hvu/RNA_rates/data_from_jesse/ENSG00000003989\u001B[39m\u001B[38;5;124m'\u001B[39m)\n\u001B[1;32m      6\u001B[0m elong_estimator\u001B[38;5;241m.\u001B[39mestimate()\n",
      "File \u001B[0;32m~/anaconda3/envs/new_rna/lib/python3.11/importlib/__init__.py:148\u001B[0m, in \u001B[0;36mreload\u001B[0;34m(module)\u001B[0m\n\u001B[1;32m    146\u001B[0m \u001B[38;5;28;01mif\u001B[39;00m sys\u001B[38;5;241m.\u001B[39mmodules\u001B[38;5;241m.\u001B[39mget(name) \u001B[38;5;129;01mis\u001B[39;00m \u001B[38;5;129;01mnot\u001B[39;00m module:\n\u001B[1;32m    147\u001B[0m     msg \u001B[38;5;241m=\u001B[39m \u001B[38;5;124m\"\u001B[39m\u001B[38;5;124mmodule \u001B[39m\u001B[38;5;132;01m{}\u001B[39;00m\u001B[38;5;124m not in sys.modules\u001B[39m\u001B[38;5;124m\"\u001B[39m\n\u001B[0;32m--> 148\u001B[0m     \u001B[38;5;28;01mraise\u001B[39;00m \u001B[38;5;167;01mImportError\u001B[39;00m(msg\u001B[38;5;241m.\u001B[39mformat(name), name\u001B[38;5;241m=\u001B[39mname)\n\u001B[1;32m    149\u001B[0m \u001B[38;5;28;01mif\u001B[39;00m name \u001B[38;5;129;01min\u001B[39;00m _RELOADING:\n\u001B[1;32m    150\u001B[0m     \u001B[38;5;28;01mreturn\u001B[39;00m _RELOADING[name]\n",
      "\u001B[0;31mImportError\u001B[0m: module estElong not in sys.modules"
     ]
    }
   ],
   "execution_count": 6
  },
  {
   "metadata": {
    "ExecuteTime": {
     "end_time": "2024-12-10T16:59:31.036976Z",
     "start_time": "2024-12-10T16:59:31.032472Z"
    }
   },
   "cell_type": "code",
   "source": [
    "def draw_regression_lines(elong_estimator, save_fn=None, show=True):\n",
    "    '''\n",
    "    Draw the regression lines on top of the coverage data\n",
    "    :param save_fn:\n",
    "    :return:\n",
    "    '''\n",
    "    elong_estimator.recover_full_coverage()  # create elong_estimator.full_coverage_df from elong_estimator.coverage_df\n",
    "    elong_estimator.coverage_df = elong_estimator.coverage_df.loc[ elong_estimator.full_coverage_df.index]\n",
    "    elong_estimator.pwlr_from_full_coverage(recalculate=False)  # for each time point from startT_idx to endT_idx, do the piecewise linear regression\n",
    "    # dictionary with keys: time points, values: pwlr_model objects that has been trained on the data of culmulative coverage\n",
    "    # for each pwlr_model, we can get access to the regression breakpoints through pwlr_model.px and pwlr_model.py\n",
    "    plotGap_n = 10\n",
    "    plot_df = elong_estimator.coverage_df.loc[::plotGap_n]  # we do not need to plot every datapoints\n",
    "    num_timepoints = len(elong_estimator.pwlr_dict.keys())\n",
    "    cmap = sns.color_palette('Blues', n_colors=num_timepoints)\n",
    "    colors = [cmap[i] for i in range(num_timepoints)]\n",
    "    fig, ax = plt.subplots(figsize=(10, 5))\n",
    "    width = 0.85* find_gap(plot_df['position'])  # the width of the bars should never exceed the numerical distance between each of the x-axis value\n",
    "    for time_idx in range(3):  # we want to plot the regression lines for the endT_idx as well\n",
    "        bottom = np.zeros(len(plot_df['position']))\n",
    "        if time_idx > 0:\n",
    "            bottom = elong_estimator.full_coverage_df.loc[::plotGap_n][time_idx-1].values\n",
    "        ax.bar(plot_df['position'], plot_df[time_idx], color=colors[time_idx], bottom = bottom, alpha=0.8, label=time_idx, width=width, linewidth=0)\n",
    "        pwlr_model = elong_estimator.pwlr_dict[time_idx]\n",
    "        px, py = pwlr_model.px.detach().numpy(), pwlr_model.py.detach().numpy()\n",
    "        ax.plot(px, py, '-or')  # red\n",
    "    # ax.set_xlim(0, elong_estimator.full_coverage_df['position'].max())\n",
    "    # ax.set_ylim(0, elong_estimator.full_coverage_df.max().max())\n",
    "    ax.legend()\n",
    "    if save_fn is not None:\n",
    "        helper.create_folder_for_file(save_fn)\n",
    "        plt.savefig(save_fn)\n",
    "    if show:\n",
    "        plt.show()\n",
    "    return\n"
   ],
   "id": "1df5f1b024d6324",
   "outputs": [],
   "execution_count": 21
  },
  {
   "metadata": {
    "ExecuteTime": {
     "end_time": "2024-12-10T17:11:41.892685Z",
     "start_time": "2024-12-10T17:11:39.222089Z"
    }
   },
   "cell_type": "code",
   "source": "draw_regression_lines(elong_estimator, save_fn='/gladstone/engelhardt/lab/hvu/RNA_rates/data_from_jesse/ENSG00000003989/ENSG00000003989_regression_lines.png')",
   "id": "a22e2620ae12405f",
   "outputs": [
    {
     "data": {
      "text/plain": [
       "<Figure size 1000x500 with 1 Axes>"
      ],
      "image/png": "[encoded data removed]"
     },
     "metadata": {},
     "output_type": "display_data"
    }
   ],
   "execution_count": 38
  },
  {
   "metadata": {
    "ExecuteTime": {
     "end_time": "2024-12-10T17:11:46.255806Z",
     "start_time": "2024-12-10T17:11:46.248707Z"
    }
   },
   "cell_type": "code",
   "source": [
    "import torch\n",
    "from solver_Ahb.train_loop import SimpleSolver, BayesianNormalSolver, BayesianRBFSolver, BayesianLogNormalSolver, SimpleSmoothSolver\n",
    "from torch.utils.data import Dataset, DataLoader\n",
    "# Example custom dataset\n",
    "class CustomData(Dataset):\n",
    "    def __init__(self, A, b):\n",
    "        \"\"\"\n",
    "        Args:\n",
    "            data (Tensor): Input data, e.g., features.\n",
    "            targets (Tensor): Target data, e.g., labels.\n",
    "        \"\"\"\n",
    "        self.data = torch.tensor(A).float()\n",
    "        self.targets = torch.tensor(b).float()\n",
    "\n",
    "    def __len__(self):\n",
    "        return len(self.data)\n",
    "\n",
    "    def __getitem__(self, idx):\n",
    "        data_point = self.data[idx]\n",
    "        target = self.targets[idx]\n",
    "        return data_point, target\n",
    "\n",
    "    def avg_pred_h(self):\n",
    "        '''\n",
    "        Given A and b, calculate the average pred_h across all samples\n",
    "        :return:\n",
    "        '''\n",
    "        dist_traveled = torch.sum(self.data, dim = 1)\n",
    "        pred_h = dist_traveled / self.targets\n",
    "        return pred_h.mean(dim=0)\n",
    "\n",
    "def run_one_method(d, method, breaks, true_h, dataloader, lambda_smooth = 1):\n",
    "    nan_tensor = torch.tensor([np.nan]*d).cpu().numpy()\n",
    "    if method == 'simpleSolver':\n",
    "        Ssolver = SimpleSolver(d, init_h=true_h, dataloader=dataloader)  # solve for h such that A/h = b\n",
    "        try:\n",
    "            simple_h = Ssolver.solve()\n",
    "            return simple_h.cpu().numpy()\n",
    "        except:\n",
    "            return nan_tensor\n",
    "    if method == 'simpleSmooth':\n",
    "        SSS = SimpleSmoothSolver(d, init_h=true_h, dataloader=dataloader, lambda_smooth = lambda_smooth)  # solve for h such that A/h = b, with some smoothness constraint\n",
    "        try:\n",
    "            avg_h = dataloader.dataset.avg_pred_h()\n",
    "            simple_smooth_h = SSS.solve(avg_h=avg_h)\n",
    "            return simple_smooth_h.cpu().numpy()\n",
    "        except:\n",
    "            return nan_tensor\n",
    "    elif method == 'bayesLinearSolver':\n",
    "        BNSolver = BayesianNormalSolver(d, init_h=true_h, dataloader=dataloader)  # solve for h such that A/h = b, with some prior distribution for h set by the solver\n",
    "        try:\n",
    "            bayes_linear_h = BNSolver.solve()\n",
    "            return bayes_linear_h.cpu().numpy()\n",
    "        except:\n",
    "            return nan_tensor\n",
    "    elif method == 'bayesRBFSolver':\n",
    "        if len(breaks) == 2:  # the h_bin is too big compared to the length of the gene\n",
    "            return nan_tensor\n",
    "        assert (breaks[1] - breaks[0]) > 0 and (breaks[1] - breaks[0]) < torch.inf, 'The binsize for the elongation rates calculation should be positive and less than infirity'\n",
    "        h_bins = breaks[1] - breaks[0]\n",
    "        B_RBFSolver = BayesianRBFSolver(d, init_h=true_h, dataloader=dataloader, coords=breaks[:-1] + h_bins * 0.5)\n",
    "        try:\n",
    "            bayes_RBF_h = B_RBFSolver.solve()\n",
    "            return bayes_RBF_h.cpu().numpy()\n",
    "        except:\n",
    "            return nan_tensor\n",
    "    elif method == 'logNormalSolver':\n",
    "        logNormalSolver = BayesianLogNormalSolver(d, init_h=true_h, dataloader=dataloader)\n",
    "        try:\n",
    "            logNormal_h = logNormalSolver.solve()\n",
    "            return logNormal_h.cpu().numpy()\n",
    "        except:\n",
    "            return nan_tensor\n",
    "    else:\n",
    "        return nan_tensor\n",
    "    "
   ],
   "id": "4b57b73c050dbf8d",
   "outputs": [],
   "execution_count": 39
  },
  {
   "metadata": {
    "ExecuteTime": {
     "end_time": "2024-12-10T17:14:16.853212Z",
     "start_time": "2024-12-10T17:14:16.850460Z"
    }
   },
   "cell_type": "code",
   "source": [
    "breaks = elong_estimator.h_breaks_list[0]\n",
    "breaks = np.arange(0, 70, 1)\n",
    "breaks = np.append(breaks, np.inf)\n",
    "print(breaks)"
   ],
   "id": "7482b1cb2b33436f",
   "outputs": [
    {
     "name": "stdout",
     "output_type": "stream",
     "text": [
      "[ 0.  1.  2.  3.  4.  5.  6.  7.  8.  9. 10. 11. 12. 13. 14. 15. 16. 17.\n",
      " 18. 19. 20. 21. 22. 23. 24. 25. 26. 27. 28. 29. 30. 31. 32. 33. 34. 35.\n",
      " 36. 37. 38. 39. 40. 41. 42. 43. 44. 45. 46. 47. 48. 49. 50. 51. 52. 53.\n",
      " 54. 55. 56. 57. 58. 59. 60. 61. 62. 63. 64. 65. 66. 67. 68. 69. inf]\n"
     ]
    }
   ],
   "execution_count": 45
  },
  {
   "metadata": {
    "ExecuteTime": {
     "end_time": "2024-12-10T17:14:34.465594Z",
     "start_time": "2024-12-10T17:14:32.081371Z"
    }
   },
   "cell_type": "code",
   "source": [
    "A = elong_estimator.findA(elong_estimator.x0, elong_estimator.x1, breaks)\n",
    "n = len(elong_estimator.x0)\n",
    "b = np.ones(n)* 5\n",
    "dataset = CustomData(A, b)\n",
    "batch_size = 2048\n",
    "dataloader = DataLoader(dataset, batch_size=batch_size, shuffle=True)\n",
    "d = A.shape[1]\n",
    "result_df= pd.DataFrame()\n",
    "result_df['start'] = breaks[:-1]\n",
    "result_df['end'] = breaks[1:]\n",
    "result_df['simpleSmooth'] = run_one_method(d, 'simpleSmooth', breaks, 1.18, dataloader, lambda_smooth=0.1)"
   ],
   "id": "9eafd0cdc1e64108",
   "outputs": [
    {
     "name": "stdout",
     "output_type": "stream",
     "text": [
      "Epoch [1/1000], Average Loss: 0.7519, Learning Rate: 0.010000\n",
      "Epoch [501/1000], Average Loss: 0.0943, Learning Rate: 0.010000\n"
     ]
    }
   ],
   "execution_count": 46
  },
  {
   "metadata": {
    "ExecuteTime": {
     "end_time": "2024-12-10T17:14:37.993610Z",
     "start_time": "2024-12-10T17:14:37.986717Z"
    }
   },
   "cell_type": "code",
   "source": "result_df",
   "id": "c777c62fd06c4a4b",
   "outputs": [
    {
     "data": {
      "text/plain": [
       "    start   end  simpleSmooth\n",
       "0     0.0   1.0      1.688563\n",
       "1     1.0   2.0      2.211606\n",
       "2     2.0   3.0      2.004583\n",
       "3     3.0   4.0      1.215809\n",
       "4     4.0   5.0      1.384484\n",
       "..    ...   ...           ...\n",
       "65   65.0  66.0      1.092679\n",
       "66   66.0  67.0      1.092679\n",
       "67   67.0  68.0      1.092679\n",
       "68   68.0  69.0      1.092680\n",
       "69   69.0   inf      1.092679\n",
       "\n",
       "[70 rows x 3 columns]"
      ],
      "text/html": [
       "<div>\n",
       "<style scoped>\n",
       "    .dataframe tbody tr th:only-of-type {\n",
       "        vertical-align: middle;\n",
       "    }\n",
       "\n",
       "    .dataframe tbody tr th {\n",
       "        vertical-align: top;\n",
       "    }\n",
       "\n",
       "    .dataframe thead th {\n",
       "        text-align: right;\n",
       "    }\n",
       "</style>\n",
       "<table border=\"1\" class=\"dataframe\">\n",
       "  <thead>\n",
       "    <tr style=\"text-align: right;\">\n",
       "      <th></th>\n",
       "      <th>start</th>\n",
       "      <th>end</th>\n",
       "      <th>simpleSmooth</th>\n",
       "    </tr>\n",
       "  </thead>\n",
       "  <tbody>\n",
       "    <tr>\n",
       "      <th>0</th>\n",
       "      <td>0.0</td>\n",
       "      <td>1.0</td>\n",
       "      <td>1.688563</td>\n",
       "    </tr>\n",
       "    <tr>\n",
       "      <th>1</th>\n",
       "      <td>1.0</td>\n",
       "      <td>2.0</td>\n",
       "      <td>2.211606</td>\n",
       "    </tr>\n",
       "    <tr>\n",
       "      <th>2</th>\n",
       "      <td>2.0</td>\n",
       "      <td>3.0</td>\n",
       "      <td>2.004583</td>\n",
       "    </tr>\n",
       "    <tr>\n",
       "      <th>3</th>\n",
       "      <td>3.0</td>\n",
       "      <td>4.0</td>\n",
       "      <td>1.215809</td>\n",
       "    </tr>\n",
       "    <tr>\n",
       "      <th>4</th>\n",
       "      <td>4.0</td>\n",
       "      <td>5.0</td>\n",
       "      <td>1.384484</td>\n",
       "    </tr>\n",
       "    <tr>\n",
       "      <th>...</th>\n",
       "      <td>...</td>\n",
       "      <td>...</td>\n",
       "      <td>...</td>\n",
       "    </tr>\n",
       "    <tr>\n",
       "      <th>65</th>\n",
       "      <td>65.0</td>\n",
       "      <td>66.0</td>\n",
       "      <td>1.092679</td>\n",
       "    </tr>\n",
       "    <tr>\n",
       "      <th>66</th>\n",
       "      <td>66.0</td>\n",
       "      <td>67.0</td>\n",
       "      <td>1.092679</td>\n",
       "    </tr>\n",
       "    <tr>\n",
       "      <th>67</th>\n",
       "      <td>67.0</td>\n",
       "      <td>68.0</td>\n",
       "      <td>1.092679</td>\n",
       "    </tr>\n",
       "    <tr>\n",
       "      <th>68</th>\n",
       "      <td>68.0</td>\n",
       "      <td>69.0</td>\n",
       "      <td>1.092680</td>\n",
       "    </tr>\n",
       "    <tr>\n",
       "      <th>69</th>\n",
       "      <td>69.0</td>\n",
       "      <td>inf</td>\n",
       "      <td>1.092679</td>\n",
       "    </tr>\n",
       "  </tbody>\n",
       "</table>\n",
       "<p>70 rows × 3 columns</p>\n",
       "</div>"
      ]
     },
     "execution_count": 47,
     "metadata": {},
     "output_type": "execute_result"
    }
   ],
   "execution_count": 47
  },
  {
   "metadata": {
    "ExecuteTime": {
     "end_time": "2024-12-10T17:19:15.414486Z",
     "start_time": "2024-12-10T17:19:15.338459Z"
    }
   },
   "cell_type": "code",
   "source": [
    "# draw the prediction of the elongation rate and the true elongation rate\n",
    "# x_axis: length along the gene\n",
    "# y_axis: elongation rate\n",
    "# color: different methods and true elongation rate\n",
    "fig, ax = plt.subplots(figsize=(10, 5))\n",
    "result_df['true_h'] = 1.18\n",
    "result_df['simpleSmooth'] = result_df['simpleSmooth'].fillna(0)\n",
    "ax.plot(result_df['start'], result_df['true_h'], label='true_h', color='red')\n",
    "ax.plot(result_df['start'], result_df['simpleSmooth'], label='simpleSmooth', color='blue')"
   ],
   "id": "ef639d2143d992e2",
   "outputs": [
    {
     "data": {
      "text/plain": [
       "[<matplotlib.lines.Line2D at 0x7f0d534e5110>]"
      ]
     },
     "execution_count": 48,
     "metadata": {},
     "output_type": "execute_result"
    },
    {
     "data": {
      "text/plain": [
       "<Figure size 1000x500 with 1 Axes>"
      ],
      "image/png": "[encoded data removed]"
     },
     "metadata": {},
     "output_type": "display_data"
    }
   ],
   "execution_count": 48
  },
  {
   "metadata": {},
   "cell_type": "code",
   "outputs": [],
   "execution_count": null,
   "source": "",
   "id": "1ec040c06cf85460"
  }
 ],
 "metadata": {
  "kernelspec": {
   "display_name": "Python (new_rna)",
   "language": "python",
   "name": "new_rna"
  },
  "language_info": {
   "codemirror_mode": {
    "name": "ipython",
    "version": 2
   },
   "file_extension": ".py",
   "mimetype": "text/x-python",
   "name": "python",
   "nbconvert_exporter": "python",
   "pygments_lexer": "ipython2",
   "version": "2.7.6"
  }
 },
 "nbformat": 4,
 "nbformat_minor": 5
}
