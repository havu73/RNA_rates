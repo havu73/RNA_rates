{
 "cells": [
  {
   "cell_type": "code",
   "execution_count": 1,
   "id": "initial_id",
   "metadata": {
    "collapsed": true,
    "ExecuteTime": {
     "end_time": "2024-04-15T18:52:53.133883Z",
     "start_time": "2024-04-15T18:52:53.124129Z"
    }
   },
   "outputs": [
    {
     "name": "stdout",
     "output_type": "stream",
     "text": [
      "importing simulate_multiple_experiments\n"
     ]
    }
   ],
   "source": [
    "import os\n",
    "os.chdir('/gladstone/engelhardt/home/hvu/source/RNA_rates/splicingrates/simulations')\n",
    "import pandas as pd\n",
    "import numpy as np\n",
    "import seaborn as sns\n",
    "from experiment import Experiment\n",
    "from transcripts import Transcript\n",
    "import visualize_simulations as viz\n",
    "import matplotlib.pyplot as plt\n",
    "import simulate_multiple_experiments as sim\n",
    "plt.style.use('default')\n",
    "plt.rcParams['figure.facecolor'] = 'white'\n",
    "import helper\n",
    "ONE_KB=1000\n",
    "SIM_FEAT_LEN = 5000 # length of one feature in the simulation\n",
    "SEED = 9999\n",
    "np.random.seed(SEED)"
   ]
  },
  {
   "cell_type": "code",
   "execution_count": 2,
   "outputs": [
    {
     "name": "stdout",
     "output_type": "stream",
     "text": [
      "/gladstone/engelhardt/home/hvu/anaconda3/envs/rna_rate/bin/python\n"
     ]
    }
   ],
   "source": [
    "import sys; print(sys.executable)"
   ],
   "metadata": {
    "collapsed": false,
    "ExecuteTime": {
     "end_time": "2024-04-15T18:52:54.277651Z",
     "start_time": "2024-04-15T18:52:54.272008Z"
    }
   },
   "id": "6bd6b286dd8c76c2"
  },
  {
   "cell_type": "code",
   "execution_count": 3,
   "outputs": [],
   "source": [
    "gtf_fn = '/gladstone/engelhardt/home/hvu/source/RNA_rates/KB_Sims_gtfs/ENSG00000006451_ENST00000005257_p0_ptime0_t0.5,4.gtf'\n",
    "label_time = [0 ,5,10]\n",
    "num_timepoints = len(label_time)\n",
    "target_exp = 5\n",
    "num_total_transcript_millions = 100\n",
    "degrade_rate = 0.00\n",
    "intron_h = 5\n",
    "PAS_h=5\n",
    "RTR=500\n",
    "lambda_init = 0.5 # average number of burst events per minute (burst event is the event where a burst_size transcripts are created around the same time)\n",
    "burst_size = 0 # number of transcripts created in a burst event\n",
    "wiggle_room = 0.1 # the wiggle room for the burst event. See the comments in function Experiment.init_bursting_transcripts to understand the meaning of this parameter. If not sure, don't modify it.\n",
    "gtf_df_from_file = sim.read_gtf_file(gtf_fn, intron_h, PAS_h, RTR)\n",
    "### OR we can create our own controlled gtf_df\n",
    "gtf_df_control = sim.modify_gtf_df(intron_h=5, PAS_h=5, ex_r_fold=1, in_r_fold=2, ex_length_fold=1, in_length_fold=1)"
   ],
   "metadata": {
    "collapsed": false,
    "ExecuteTime": {
     "end_time": "2024-04-15T18:52:55.183054Z",
     "start_time": "2024-04-15T18:52:55.164140Z"
    }
   },
   "id": "f84b87598d9d318e"
  },
  {
   "cell_type": "code",
   "execution_count": 4,
   "outputs": [
    {
     "name": "stdout",
     "output_type": "stream",
     "text": [
      "inside generate_exp_given_one_gtf\n",
      "before adding new experiments\n",
      "0\n",
      "0\n"
     ]
    },
    {
     "ename": "ValueError",
     "evalue": "No objects to concatenate",
     "output_type": "error",
     "traceback": [
      "\u001B[0;31m---------------------------------------------------------------------------\u001B[0m",
      "\u001B[0;31mValueError\u001B[0m                                Traceback (most recent call last)",
      "Cell \u001B[0;32mIn[4], line 2\u001B[0m\n\u001B[1;32m      1\u001B[0m gtf_df \u001B[38;5;241m=\u001B[39m gtf_df_control\n\u001B[0;32m----> 2\u001B[0m exp_list \u001B[38;5;241m=\u001B[39m sim\u001B[38;5;241m.\u001B[39mgenerate_exp_given_one_gtf(gtf_df, save_folder\u001B[38;5;241m=\u001B[39m \u001B[38;5;28;01mNone\u001B[39;00m, label_time \u001B[38;5;241m=\u001B[39m label_time, target_exp\u001B[38;5;241m=\u001B[39mtarget_exp, num_total_transcript_millions \u001B[38;5;241m=\u001B[39m num_total_transcript_millions, lambda_init \u001B[38;5;241m=\u001B[39m lambda_init , burst_size \u001B[38;5;241m=\u001B[39m burst_size, wiggle_room \u001B[38;5;241m=\u001B[39m wiggle_room)\n",
      "File \u001B[0;32m~/source/RNA_rates/splicingrates/simulations/simulate_multiple_experiments.py:192\u001B[0m, in \u001B[0;36mgenerate_exp_given_one_gtf\u001B[0;34m(gtf_df, save_folder, label_time, target_exp, num_total_transcript_millions, lambda_init, burst_size, wiggle_room, frag_func, eta_val, unif_avg_frag_len, insertsize_min, insertsize_max, read_length, simulate_cleavage, PDB, max_time_for_equilibrium)\u001B[0m\n\u001B[1;32m    190\u001B[0m     \u001B[38;5;28mprint\u001B[39m(\u001B[38;5;28mlen\u001B[39m(new_exp\u001B[38;5;241m.\u001B[39mtranscripts))\n\u001B[1;32m    191\u001B[0m     prev_exp\u001B[38;5;241m.\u001B[39mnext_exp \u001B[38;5;241m=\u001B[39m new_exp  \u001B[38;5;66;03m# link the two experiments together\u001B[39;00m\n\u001B[0;32m--> 192\u001B[0m     new_exp\u001B[38;5;241m.\u001B[39mget_reads_df()  \u001B[38;5;66;03m# get the reads_df for the new experiment\u001B[39;00m\n\u001B[1;32m    193\u001B[0m     exp_list\u001B[38;5;241m.\u001B[39mappend(new_exp)\n\u001B[1;32m    194\u001B[0m \u001B[38;5;66;03m# Now write the experiment into a folder and return the experiment list\u001B[39;00m\n",
      "File \u001B[0;32m~/source/RNA_rates/splicingrates/simulations/experiment.py:332\u001B[0m, in \u001B[0;36mExperiment.get_reads_df\u001B[0;34m(self)\u001B[0m\n\u001B[1;32m    330\u001B[0m     \u001B[38;5;28;01mif\u001B[39;00m \u001B[38;5;129;01mnot\u001B[39;00m transcript\u001B[38;5;241m.\u001B[39mreads_df\u001B[38;5;241m.\u001B[39mempty:\n\u001B[1;32m    331\u001B[0m         reads_df_list\u001B[38;5;241m.\u001B[39mappend(transcript\u001B[38;5;241m.\u001B[39mreads_df)\n\u001B[0;32m--> 332\u001B[0m \u001B[38;5;28mself\u001B[39m\u001B[38;5;241m.\u001B[39mreads_df \u001B[38;5;241m=\u001B[39m pd\u001B[38;5;241m.\u001B[39mconcat(reads_df_list, ignore_index\u001B[38;5;241m=\u001B[39m\u001B[38;5;28;01mTrue\u001B[39;00m) \u001B[38;5;66;03m# ignore_index is needed to avoid the case where multiple read_df have the same index\u001B[39;00m\n\u001B[1;32m    333\u001B[0m \u001B[38;5;28mself\u001B[39m\u001B[38;5;241m.\u001B[39mreads_df \u001B[38;5;241m=\u001B[39m \u001B[38;5;28mself\u001B[39m\u001B[38;5;241m.\u001B[39mreads_df\u001B[38;5;241m.\u001B[39mastype(\u001B[38;5;28mint\u001B[39m)\n\u001B[1;32m    334\u001B[0m \u001B[38;5;28;01mreturn\u001B[39;00m\n",
      "File \u001B[0;32m~/anaconda3/envs/rna_rate/lib/python3.11/site-packages/pandas/core/reshape/concat.py:380\u001B[0m, in \u001B[0;36mconcat\u001B[0;34m(objs, axis, join, ignore_index, keys, levels, names, verify_integrity, sort, copy)\u001B[0m\n\u001B[1;32m    377\u001B[0m \u001B[38;5;28;01melif\u001B[39;00m copy \u001B[38;5;129;01mand\u001B[39;00m using_copy_on_write():\n\u001B[1;32m    378\u001B[0m     copy \u001B[38;5;241m=\u001B[39m \u001B[38;5;28;01mFalse\u001B[39;00m\n\u001B[0;32m--> 380\u001B[0m op \u001B[38;5;241m=\u001B[39m _Concatenator(\n\u001B[1;32m    381\u001B[0m     objs,\n\u001B[1;32m    382\u001B[0m     axis\u001B[38;5;241m=\u001B[39maxis,\n\u001B[1;32m    383\u001B[0m     ignore_index\u001B[38;5;241m=\u001B[39mignore_index,\n\u001B[1;32m    384\u001B[0m     join\u001B[38;5;241m=\u001B[39mjoin,\n\u001B[1;32m    385\u001B[0m     keys\u001B[38;5;241m=\u001B[39mkeys,\n\u001B[1;32m    386\u001B[0m     levels\u001B[38;5;241m=\u001B[39mlevels,\n\u001B[1;32m    387\u001B[0m     names\u001B[38;5;241m=\u001B[39mnames,\n\u001B[1;32m    388\u001B[0m     verify_integrity\u001B[38;5;241m=\u001B[39mverify_integrity,\n\u001B[1;32m    389\u001B[0m     copy\u001B[38;5;241m=\u001B[39mcopy,\n\u001B[1;32m    390\u001B[0m     sort\u001B[38;5;241m=\u001B[39msort,\n\u001B[1;32m    391\u001B[0m )\n\u001B[1;32m    393\u001B[0m \u001B[38;5;28;01mreturn\u001B[39;00m op\u001B[38;5;241m.\u001B[39mget_result()\n",
      "File \u001B[0;32m~/anaconda3/envs/rna_rate/lib/python3.11/site-packages/pandas/core/reshape/concat.py:443\u001B[0m, in \u001B[0;36m_Concatenator.__init__\u001B[0;34m(self, objs, axis, join, keys, levels, names, ignore_index, verify_integrity, copy, sort)\u001B[0m\n\u001B[1;32m    440\u001B[0m \u001B[38;5;28mself\u001B[39m\u001B[38;5;241m.\u001B[39mverify_integrity \u001B[38;5;241m=\u001B[39m verify_integrity\n\u001B[1;32m    441\u001B[0m \u001B[38;5;28mself\u001B[39m\u001B[38;5;241m.\u001B[39mcopy \u001B[38;5;241m=\u001B[39m copy\n\u001B[0;32m--> 443\u001B[0m objs, keys \u001B[38;5;241m=\u001B[39m \u001B[38;5;28mself\u001B[39m\u001B[38;5;241m.\u001B[39m_clean_keys_and_objs(objs, keys)\n\u001B[1;32m    445\u001B[0m \u001B[38;5;66;03m# figure out what our result ndim is going to be\u001B[39;00m\n\u001B[1;32m    446\u001B[0m ndims \u001B[38;5;241m=\u001B[39m \u001B[38;5;28mself\u001B[39m\u001B[38;5;241m.\u001B[39m_get_ndims(objs)\n",
      "File \u001B[0;32m~/anaconda3/envs/rna_rate/lib/python3.11/site-packages/pandas/core/reshape/concat.py:505\u001B[0m, in \u001B[0;36m_Concatenator._clean_keys_and_objs\u001B[0;34m(self, objs, keys)\u001B[0m\n\u001B[1;32m    502\u001B[0m     objs_list \u001B[38;5;241m=\u001B[39m \u001B[38;5;28mlist\u001B[39m(objs)\n\u001B[1;32m    504\u001B[0m \u001B[38;5;28;01mif\u001B[39;00m \u001B[38;5;28mlen\u001B[39m(objs_list) \u001B[38;5;241m==\u001B[39m \u001B[38;5;241m0\u001B[39m:\n\u001B[0;32m--> 505\u001B[0m     \u001B[38;5;28;01mraise\u001B[39;00m \u001B[38;5;167;01mValueError\u001B[39;00m(\u001B[38;5;124m\"\u001B[39m\u001B[38;5;124mNo objects to concatenate\u001B[39m\u001B[38;5;124m\"\u001B[39m)\n\u001B[1;32m    507\u001B[0m \u001B[38;5;28;01mif\u001B[39;00m keys \u001B[38;5;129;01mis\u001B[39;00m \u001B[38;5;28;01mNone\u001B[39;00m:\n\u001B[1;32m    508\u001B[0m     objs_list \u001B[38;5;241m=\u001B[39m \u001B[38;5;28mlist\u001B[39m(com\u001B[38;5;241m.\u001B[39mnot_none(\u001B[38;5;241m*\u001B[39mobjs_list))\n",
      "\u001B[0;31mValueError\u001B[0m: No objects to concatenate"
     ]
    }
   ],
   "source": [
    "gtf_df = gtf_df_control\n",
    "exp_list = sim.generate_exp_given_one_gtf(gtf_df, save_folder= None, label_time = label_time, target_exp=target_exp, num_total_transcript_millions = num_total_transcript_millions, lambda_init = lambda_init , burst_size = burst_size, wiggle_room = wiggle_room)"
   ],
   "metadata": {
    "collapsed": false,
    "ExecuteTime": {
     "end_time": "2024-04-15T18:52:57.469039Z",
     "start_time": "2024-04-15T18:52:57.124530Z"
    }
   },
   "id": "9a1d6de7a9655c1f"
  },
  {
   "cell_type": "code",
   "execution_count": null,
   "outputs": [],
   "source": [
    "# Then, what are the assumptions about this calculation that do not hold anymore in our case?\n",
    "# Answer the question: Is there a way to calculate the elongation rate based on the read coverage data?\n",
    "# 4, Then, answer the question: How is splicing half life, elongation rate affecting this? \n",
    "# 4, Write down how the cleavage rates were determined in the Pai et al., paper from read data\n",
    "# 8, Write function to do pull-down of molecules --> basically just a smaller number of timepoints that we are able to observe\n",
    "# 9, Write function that allows the stopping of transcription initiation"
   ],
   "metadata": {
    "collapsed": false
   },
   "id": "27b0ca202eef3f76"
  },
  {
   "cell_type": "markdown",
   "source": [
    "# Is there a way to calculate elongation rates from time-tagged reads (kinetic barcoding)?\n",
    "We will first try to frame this problem from a traffic flow perspective.\n",
    "- Create a gtf_df with 3 exons and no introns, with exon2 had double the rate of elongation compare to other exons: done\n",
    "- Simulate nascent transcripts and reads at t=1, t=2 and t=3: done\n",
    "- For each timepoint, plot where the transcripts end, and then plot the corresponding time-tagged read coverage"
   ],
   "metadata": {
    "collapsed": false
   },
   "id": "ef5d3816f16ca175"
  },
  {
   "cell_type": "code",
   "execution_count": 5,
   "outputs": [],
   "source": [
    "gtf_df = sim.modify_gtf_df(intron_h=5, PAS_h=5, ex_r_fold=2, in_r_fold=1, ex_length_fold=1, in_length_fold=0)\n",
    "gtf_df = gtf_df[gtf_df['is_intron'] == False]\n",
    "gtf_df['start'] = gtf_df.loc[0, 'start'] + np.cumsum(gtf_df['length']) - gtf_df['length']\n",
    "gtf_df['end'] = gtf_df['start'] + gtf_df['length']\n",
    "gtf_df['time'] = (gtf_df['end'] - gtf_df['start']) / gtf_df['txrate'] / ONE_KB  # time to traverse the feature\n",
    "exp_list = sim.generate_exp_given_one_gtf(gtf_df, save_folder= None, label_time = label_time, target_exp=target_exp, num_total_transcript_millions = num_total_transcript_millions, lambda_init = lambda_init , burst_size = burst_size, wiggle_room = wiggle_room)"
   ],
   "metadata": {
    "collapsed": false,
    "ExecuteTime": {
     "end_time": "2024-01-17T21:49:24.810294Z",
     "start_time": "2024-01-17T21:49:13.904820Z"
    }
   },
   "id": "3e0128194736ecee"
  },
  {
   "cell_type": "code",
   "execution_count": 22,
   "outputs": [
    {
     "data": {
      "text/plain": "  feature  start    end  length  txrate  is_intron  intron_h  is_PAS  PAS_h  \\\n0  exon_1      0   5000    5000     1.0      False         0   False      0   \n2  exon_2   5000  10000    5000     2.0      False         0   False      0   \n4  exon_3  10000  15000    5000     1.0      False         0   False      0   \n5     PAS  15000  15001       1     1.0      False         0    True      5   \n6     RTR  15001  20001    5000     1.0      False         0   False      0   \n\n    time  \n0  5.000  \n2  2.500  \n4  5.000  \n5  0.001  \n6  5.000  ",
      "text/html": "<div>\n<style scoped>\n    .dataframe tbody tr th:only-of-type {\n        vertical-align: middle;\n    }\n\n    .dataframe tbody tr th {\n        vertical-align: top;\n    }\n\n    .dataframe thead th {\n        text-align: right;\n    }\n</style>\n<table border=\"1\" class=\"dataframe\">\n  <thead>\n    <tr style=\"text-align: right;\">\n      <th></th>\n      <th>feature</th>\n      <th>start</th>\n      <th>end</th>\n      <th>length</th>\n      <th>txrate</th>\n      <th>is_intron</th>\n      <th>intron_h</th>\n      <th>is_PAS</th>\n      <th>PAS_h</th>\n      <th>time</th>\n    </tr>\n  </thead>\n  <tbody>\n    <tr>\n      <th>0</th>\n      <td>exon_1</td>\n      <td>0</td>\n      <td>5000</td>\n      <td>5000</td>\n      <td>1.0</td>\n      <td>False</td>\n      <td>0</td>\n      <td>False</td>\n      <td>0</td>\n      <td>5.000</td>\n    </tr>\n    <tr>\n      <th>2</th>\n      <td>exon_2</td>\n      <td>5000</td>\n      <td>10000</td>\n      <td>5000</td>\n      <td>2.0</td>\n      <td>False</td>\n      <td>0</td>\n      <td>False</td>\n      <td>0</td>\n      <td>2.500</td>\n    </tr>\n    <tr>\n      <th>4</th>\n      <td>exon_3</td>\n      <td>10000</td>\n      <td>15000</td>\n      <td>5000</td>\n      <td>1.0</td>\n      <td>False</td>\n      <td>0</td>\n      <td>False</td>\n      <td>0</td>\n      <td>5.000</td>\n    </tr>\n    <tr>\n      <th>5</th>\n      <td>PAS</td>\n      <td>15000</td>\n      <td>15001</td>\n      <td>1</td>\n      <td>1.0</td>\n      <td>False</td>\n      <td>0</td>\n      <td>True</td>\n      <td>5</td>\n      <td>0.001</td>\n    </tr>\n    <tr>\n      <th>6</th>\n      <td>RTR</td>\n      <td>15001</td>\n      <td>20001</td>\n      <td>5000</td>\n      <td>1.0</td>\n      <td>False</td>\n      <td>0</td>\n      <td>False</td>\n      <td>0</td>\n      <td>5.000</td>\n    </tr>\n  </tbody>\n</table>\n</div>"
     },
     "execution_count": 22,
     "metadata": {},
     "output_type": "execute_result"
    }
   ],
   "source": [
    "gtf_df"
   ],
   "metadata": {
    "collapsed": false,
    "ExecuteTime": {
     "end_time": "2024-01-17T22:10:28.610253Z",
     "start_time": "2024-01-17T22:10:28.567737Z"
    }
   },
   "id": "5d55cdcdcfe0f335"
  },
  {
   "cell_type": "code",
   "execution_count": 29,
   "outputs": [
    {
     "name": "stdout",
     "output_type": "stream",
     "text": [
      "            0\n",
      "position     \n",
      "0         229\n",
      "200       121\n",
      "400       133\n",
      "600       174\n",
      "800       165\n",
      "            0  1\n",
      "position        \n",
      "0         239  1\n",
      "200       109  1\n",
      "400       158  1\n",
      "600       185  4\n",
      "800       162  9\n",
      "            0  1  2\n",
      "position           \n",
      "0         263  1  0\n",
      "200       115  3  0\n",
      "400       162  4  0\n",
      "600       160  4  0\n",
      "800       163  6  0\n"
     ]
    },
    {
     "data": {
      "text/plain": "<Figure size 500x300 with 1 Axes>",
      "image/png": "[encoded data removed]"
     },
     "metadata": {},
     "output_type": "display_data"
    },
    {
     "data": {
      "text/plain": "<Figure size 500x300 with 1 Axes>",
      "image/png": "[encoded data removed]"
     },
     "metadata": {},
     "output_type": "display_data"
    },
    {
     "data": {
      "text/plain": "<Figure size 500x300 with 1 Axes>",
      "image/png": "[encoded data removed]"
     },
     "metadata": {},
     "output_type": "display_data"
    }
   ],
   "source": [
    "for i in range(len(exp_list)):\n",
    "    coverage_df = viz.plot_timeTagged_read_coverage(exp_list[:(i+1)], smooth_N=1, gap_N=200, xaxis_N=50, width=1, stacked=False, ylim=(0,300), time_to_plot=range(i,i+1))\n",
    "    print(coverage_df.head())\n",
    "    # fig = viz.plot_all_times_endsite(exp_list[:(i+1)], lower_idx=0, upper_idx=720, line_width=2, y_order_by_time=False)"
   ],
   "metadata": {
    "collapsed": false,
    "ExecuteTime": {
     "end_time": "2024-01-17T22:39:28.655300Z",
     "start_time": "2024-01-17T22:39:14.944671Z"
    }
   },
   "id": "486d94d12f34dc36"
  },
  {
   "cell_type": "markdown",
   "source": [
    "# Create an infrastructure to simulate the experiment under different conditions (different elongation rates, different splicing rates, different cleavage rates)\n",
    "In order to do so, I need to do the following\n",
    "- create function save_data for Experiment: done\n",
    "- create function load_data for Experiment: done\n",
    "- create function for a baseline gtf_df: done\n",
    "- create a function that allows me to modify the gtf_df: rates and also length of different features: done\n",
    "- create function that takes in a gtf_df, and generate exp_list and save those exp_list into folders: done\n",
    "- create function that generate multiple gtf_df with different elongation rates and exon lengths, and plot the read distribution for each of those gtf_df: done\n",
    "- Is there a way for me to calculate the elongation rate based on the read coverage data?"
   ],
   "metadata": {
    "collapsed": false
   },
   "id": "a5c2d69c9a7dac8b"
  },
  {
   "cell_type": "markdown",
   "source": [],
   "metadata": {
    "collapsed": false
   },
   "id": "f7970f030a193954"
  },
  {
   "cell_type": "code",
   "execution_count": null,
   "outputs": [],
   "source": [
    "sim.generate_multiple_experiments()"
   ],
   "metadata": {
    "collapsed": false
   },
   "id": "41f90ec795eccb24"
  },
  {
   "cell_type": "code",
   "execution_count": 32,
   "outputs": [
    {
     "name": "stdout",
     "output_type": "stream",
     "text": [
      "Generating exon_r_fold 1\n",
      "Generating ex_length_fold 1\n",
      "Generating ex_length_fold 2\n",
      "Generating ex_length_fold 3\n",
      "Generating exon_r_fold 2\n",
      "Generating ex_length_fold 1\n",
      "Generating ex_length_fold 2\n",
      "Generating ex_length_fold 3\n"
     ]
    },
    {
     "name": "stderr",
     "output_type": "stream",
     "text": [
      "/gladstone/engelhardt/home/hvu/source/RNA_rates/splicingrates/simulations/simulate_reads_from_transcripts.py:31: RuntimeWarning: divide by zero encountered in scalar divide\n",
      "  relative_length = np.power(relative_length, 1/delta)\n"
     ]
    },
    {
     "name": "stdout",
     "output_type": "stream",
     "text": [
      "Generating exon_r_fold 3\n",
      "Generating ex_length_fold 1\n",
      "Generating ex_length_fold 2\n",
      "Generating ex_length_fold 3\n"
     ]
    }
   ],
   "source": [
    "save_folder = '/gladstone/engelhardt/home/hvu/RNA_rates/simulations/'\n",
    "exon_length_fold = np.arange(1,4)\n",
    "exon_rate_fold = np.arange(1,4)\n",
    "exp_list_structure = [[]*len(exon_length_fold)]*len(exon_rate_fold)\n",
    "for ex_r in exon_rate_fold:\n",
    "    print('Generating exon_r_fold {}'.format(ex_r))\n",
    "    for ex_length in exon_length_fold:\n",
    "        print('Generating ex_length_fold {}'.format(ex_length))\n",
    "        gtf_df = sim.modify_gtf_df(ex_r_fold=ex_r, ex_length_fold=ex_length) \n",
    "        this_save_folder=os.path.join(save_folder, 'exR{ex_r}_exL{ex_length}'.format(ex_r=ex_r, ex_length=ex_length))\n",
    "        if not os.path.isfile(os.path.join(this_save_folder, 'gtf_df.csv')):\n",
    "            exp_list = sim.generate_exp_given_one_gtf(gtf_df=gtf_df, save_folder=this_save_folder, label_time=label_time, target_exp=target_exp, num_total_transcript_millions=num_total_transcript_millions, lambda_init=lambda_init , burst_size=burst_size, wiggle_room=wiggle_room)\n",
    "        # exp_list_structure[ex_r-1][ex_length-1] = exp_list\n",
    "        # viz.plot_total_read_coverage(exp_list, smooth_N=1, gap_N=200, xaxis_N=50, width=1, ax=axes[ex_r-1,ex_length-1])"
   ],
   "metadata": {
    "collapsed": false,
    "ExecuteTime": {
     "end_time": "2024-01-16T23:34:30.780078Z",
     "start_time": "2024-01-16T23:31:17.002850Z"
    }
   },
   "id": "cce785fe33eb0d7e"
  },
  {
   "cell_type": "code",
   "execution_count": 41,
   "outputs": [
    {
     "ename": "ValueError",
     "evalue": "Lengths must match to compare",
     "output_type": "error",
     "traceback": [
      "\u001B[0;31m---------------------------------------------------------------------------\u001B[0m",
      "\u001B[0;31mValueError\u001B[0m                                Traceback (most recent call last)",
      "Cell \u001B[0;32mIn[41], line 9\u001B[0m\n\u001B[1;32m      7\u001B[0m this_save_folder \u001B[38;5;241m=\u001B[39m os\u001B[38;5;241m.\u001B[39mpath\u001B[38;5;241m.\u001B[39mjoin(save_folder, \u001B[38;5;124m'\u001B[39m\u001B[38;5;124mexR\u001B[39m\u001B[38;5;132;01m{ex_r}\u001B[39;00m\u001B[38;5;124m_exL\u001B[39m\u001B[38;5;132;01m{ex_length}\u001B[39;00m\u001B[38;5;124m'\u001B[39m\u001B[38;5;241m.\u001B[39mformat(ex_r\u001B[38;5;241m=\u001B[39mex_r, ex_length\u001B[38;5;241m=\u001B[39mex_length))\n\u001B[1;32m      8\u001B[0m \u001B[38;5;66;03m# plot_total_read_coverage(exp_list, smooth_N=1, gap_N=200, xaxis_N=50, width=1, ax=axes[ex_r-1,ex_length-1], title='TOTAL coverage: exR{ex_r}_exL{ex_length}'.format(ex_r=ex_r, ex_length=ex_length), save_folder=this_save_folder, grid=False, ylim=(0,300))\u001B[39;00m\n\u001B[0;32m----> 9\u001B[0m plot_timeTagged_read_coverage(exp_list, smooth_N\u001B[38;5;241m=\u001B[39m\u001B[38;5;241m1\u001B[39m, gap_N\u001B[38;5;241m=\u001B[39m\u001B[38;5;241m200\u001B[39m, xaxis_N\u001B[38;5;241m=\u001B[39m\u001B[38;5;241m50\u001B[39m, width\u001B[38;5;241m=\u001B[39m\u001B[38;5;241m1\u001B[39m, ax\u001B[38;5;241m=\u001B[39maxes[ex_r\u001B[38;5;241m-\u001B[39m\u001B[38;5;241m1\u001B[39m,ex_length\u001B[38;5;241m-\u001B[39m\u001B[38;5;241m1\u001B[39m], title\u001B[38;5;241m=\u001B[39m\u001B[38;5;124m'\u001B[39m\u001B[38;5;124mTIME-TAGGED coverage: exR\u001B[39m\u001B[38;5;132;01m{ex_r}\u001B[39;00m\u001B[38;5;124m_exL\u001B[39m\u001B[38;5;132;01m{ex_length}\u001B[39;00m\u001B[38;5;124m'\u001B[39m\u001B[38;5;241m.\u001B[39mformat(ex_r\u001B[38;5;241m=\u001B[39mex_r, ex_length\u001B[38;5;241m=\u001B[39mex_length), save_folder\u001B[38;5;241m=\u001B[39mthis_save_folder, grid\u001B[38;5;241m=\u001B[39m\u001B[38;5;28;01mFalse\u001B[39;00m, ylim\u001B[38;5;241m=\u001B[39m(\u001B[38;5;241m0\u001B[39m,\u001B[38;5;241m300\u001B[39m))\n",
      "Cell \u001B[0;32mIn[39], line 77\u001B[0m, in \u001B[0;36mplot_timeTagged_read_coverage\u001B[0;34m(exp_list, smooth_N, gap_N, xaxis_N, width, ax, title, figsize, grid, ylim, save_folder)\u001B[0m\n\u001B[1;32m     75\u001B[0m num_timepoints \u001B[38;5;241m=\u001B[39m \u001B[38;5;28mlen\u001B[39m(exp_list)\n\u001B[1;32m     76\u001B[0m \u001B[38;5;66;03m# calculate read coverage such that the counts also break down the time points at which each read was created/elongated\u001B[39;00m\n\u001B[0;32m---> 77\u001B[0m coverage_df \u001B[38;5;241m=\u001B[39m viz\u001B[38;5;241m.\u001B[39mcount_timeDep_read_coverage(exp_list[\u001B[38;5;241m-\u001B[39m\u001B[38;5;241m1\u001B[39m], endpoint_df, N\u001B[38;5;241m=\u001B[39msmooth_N, num_timepoints\u001B[38;5;241m=\u001B[39mnum_timepoints)\n\u001B[1;32m     78\u001B[0m \u001B[38;5;66;03m# coverage_df : position (along the genome), 0,1,..., num_timepoints-1 --> values are the number of reads that cover that position, broken down by the time point that the read was created/elongated\u001B[39;00m\n\u001B[1;32m     79\u001B[0m coverage_df\u001B[38;5;241m.\u001B[39mset_index(\u001B[38;5;124m'\u001B[39m\u001B[38;5;124mposition\u001B[39m\u001B[38;5;124m'\u001B[39m, inplace\u001B[38;5;241m=\u001B[39m\u001B[38;5;28;01mTrue\u001B[39;00m)  \u001B[38;5;66;03m# set_index so that the df follows the default format for stacked bar plotting\u001B[39;00m\n",
      "File \u001B[0;32m~/source/RNA_rates/splicingrates/simulations/visualize_simulations.py:105\u001B[0m, in \u001B[0;36mcount_timeDep_read_coverage\u001B[0;34m(exp, endpoint_df, N, num_timepoints)\u001B[0m\n\u001B[1;32m     92\u001B[0m \u001B[38;5;250m\u001B[39m\u001B[38;5;124;03m\"\"\"\u001B[39;00m\n\u001B[1;32m     93\u001B[0m \u001B[38;5;124;03mThis function will count the number of reads that overlap each bp along the gene in the experiment, given that the reads maybe have been produced based on SLAM-seq procedure so each read can be time-resolved (tagged to a time point as its creation time)\u001B[39;00m\n\u001B[1;32m     94\u001B[0m \u001B[38;5;124;03m:param exp: experiment object representing this experiment. We can call on exp.get_reads_df() to generate the reads_df if it is empty\u001B[39;00m\n\u001B[0;32m   (...)\u001B[0m\n\u001B[1;32m     99\u001B[0m \u001B[38;5;124;03m:return: coverage with columns: position, 0, 1, ... num_timepoints-1 --> read coverage at each position, tagged at each time point\u001B[39;00m\n\u001B[1;32m    100\u001B[0m \u001B[38;5;124;03m\"\"\"\u001B[39;00m\n\u001B[1;32m    101\u001B[0m \u001B[38;5;66;03m#### given reads_df: abs_start, abs_end, subtract_start, subtract_end, tagged_time\u001B[39;00m\n\u001B[1;32m    102\u001B[0m \u001B[38;5;66;03m#### calculate coverage_df: position, 0,1,..., num_timepoints-1 --> values are the number of reads that cover that position, broken down by the time point that the read was created/elongated\u001B[39;00m\n\u001B[1;32m    103\u001B[0m \u001B[38;5;66;03m#### tested: assert that read coverage at position 0 is similar to number of tagged reads at exp_list[-1]\u001B[39;00m\n\u001B[1;32m    104\u001B[0m \u001B[38;5;66;03m# assert that the columns of endpoint_df are in increasing order\u001B[39;00m\n\u001B[0;32m--> 105\u001B[0m \u001B[38;5;28;01massert\u001B[39;00m np\u001B[38;5;241m.\u001B[39mall(endpoint_df\u001B[38;5;241m.\u001B[39mcolumns \u001B[38;5;241m==\u001B[39m np\u001B[38;5;241m.\u001B[39marange(num_timepoints))\n\u001B[1;32m    106\u001B[0m \u001B[38;5;66;03m# obtain the reads from the transcripts that are present in the experiment\u001B[39;00m\n\u001B[1;32m    107\u001B[0m exp\u001B[38;5;241m.\u001B[39mget_reads_df() \u001B[38;5;66;03m# this will only take if exp.reads_df is empty, then this will generate the reads_df to obtain the reads generated from this experiment. Otherwise, do nothing\u001B[39;00m\n",
      "File \u001B[0;32m~/anaconda3/envs/rna_rate/lib/python3.11/site-packages/pandas/core/ops/common.py:76\u001B[0m, in \u001B[0;36m_unpack_zerodim_and_defer.<locals>.new_method\u001B[0;34m(self, other)\u001B[0m\n\u001B[1;32m     72\u001B[0m             \u001B[38;5;28;01mreturn\u001B[39;00m \u001B[38;5;28mNotImplemented\u001B[39m\n\u001B[1;32m     74\u001B[0m other \u001B[38;5;241m=\u001B[39m item_from_zerodim(other)\n\u001B[0;32m---> 76\u001B[0m \u001B[38;5;28;01mreturn\u001B[39;00m method(\u001B[38;5;28mself\u001B[39m, other)\n",
      "File \u001B[0;32m~/anaconda3/envs/rna_rate/lib/python3.11/site-packages/pandas/core/arraylike.py:40\u001B[0m, in \u001B[0;36mOpsMixin.__eq__\u001B[0;34m(self, other)\u001B[0m\n\u001B[1;32m     38\u001B[0m \u001B[38;5;129m@unpack_zerodim_and_defer\u001B[39m(\u001B[38;5;124m\"\u001B[39m\u001B[38;5;124m__eq__\u001B[39m\u001B[38;5;124m\"\u001B[39m)\n\u001B[1;32m     39\u001B[0m \u001B[38;5;28;01mdef\u001B[39;00m \u001B[38;5;21m__eq__\u001B[39m(\u001B[38;5;28mself\u001B[39m, other):\n\u001B[0;32m---> 40\u001B[0m     \u001B[38;5;28;01mreturn\u001B[39;00m \u001B[38;5;28mself\u001B[39m\u001B[38;5;241m.\u001B[39m_cmp_method(other, operator\u001B[38;5;241m.\u001B[39meq)\n",
      "File \u001B[0;32m~/anaconda3/envs/rna_rate/lib/python3.11/site-packages/pandas/core/indexes/base.py:7104\u001B[0m, in \u001B[0;36mIndex._cmp_method\u001B[0;34m(self, other, op)\u001B[0m\n\u001B[1;32m   7099\u001B[0m         \u001B[38;5;28;01mreturn\u001B[39;00m arr\n\u001B[1;32m   7101\u001B[0m \u001B[38;5;28;01mif\u001B[39;00m \u001B[38;5;28misinstance\u001B[39m(other, (np\u001B[38;5;241m.\u001B[39mndarray, Index, ABCSeries, ExtensionArray)) \u001B[38;5;129;01mand\u001B[39;00m \u001B[38;5;28mlen\u001B[39m(\n\u001B[1;32m   7102\u001B[0m     \u001B[38;5;28mself\u001B[39m\n\u001B[1;32m   7103\u001B[0m ) \u001B[38;5;241m!=\u001B[39m \u001B[38;5;28mlen\u001B[39m(other):\n\u001B[0;32m-> 7104\u001B[0m     \u001B[38;5;28;01mraise\u001B[39;00m \u001B[38;5;167;01mValueError\u001B[39;00m(\u001B[38;5;124m\"\u001B[39m\u001B[38;5;124mLengths must match to compare\u001B[39m\u001B[38;5;124m\"\u001B[39m)\n\u001B[1;32m   7106\u001B[0m \u001B[38;5;28;01mif\u001B[39;00m \u001B[38;5;129;01mnot\u001B[39;00m \u001B[38;5;28misinstance\u001B[39m(other, ABCMultiIndex):\n\u001B[1;32m   7107\u001B[0m     other \u001B[38;5;241m=\u001B[39m extract_array(other, extract_numpy\u001B[38;5;241m=\u001B[39m\u001B[38;5;28;01mTrue\u001B[39;00m)\n",
      "\u001B[0;31mValueError\u001B[0m: Lengths must match to compare"
     ]
    },
    {
     "data": {
      "text/plain": "<Figure size 2000x1100 with 9 Axes>",
      "image/png": "[encoded data removed]"
     },
     "metadata": {},
     "output_type": "display_data"
    }
   ],
   "source": [
    "exp_list_structure = [[]*len(exon_length_fold)]*len(exon_rate_fold)\n",
    "fig, axes = plt.subplots(nrows=len(exon_length_fold), ncols=len(exon_rate_fold), figsize=(6*len(exon_length_fold)+2, 3*len(exon_rate_fold)+2),constrained_layout=True)\n",
    "\n",
    "for ex_r in exon_rate_fold:\n",
    "    for ex_length in exon_length_fold:\n",
    "        exp_list = sim.read_one_exp_sequence(save_folder= os.path.join(save_folder, 'exR{ex_r}_exL{ex_length}'.format(ex_r=ex_r, ex_length=ex_length)))\n",
    "        this_save_folder = os.path.join(save_folder, 'exR{ex_r}_exL{ex_length}'.format(ex_r=ex_r, ex_length=ex_length))\n",
    "        # plot_total_read_coverage(exp_list, smooth_N=1, gap_N=200, xaxis_N=50, width=1, ax=axes[ex_r-1,ex_length-1], title='TOTAL coverage: exR{ex_r}_exL{ex_length}'.format(ex_r=ex_r, ex_length=ex_length), save_folder=this_save_folder, grid=False, ylim=(0,300))\n",
    "        viz.plot_timeTagged_read_coverage(exp_list, smooth_N=1, gap_N=200, xaxis_N=50, width=1, ax=axes[ex_r-1,ex_length-1], title='TIME-TAGGED coverage: exR{ex_r}_exL{ex_length}'.format(ex_r=ex_r, ex_length=ex_length), save_folder=this_save_folder, grid=False, ylim=(0,300))"
   ],
   "metadata": {
    "collapsed": false,
    "ExecuteTime": {
     "end_time": "2024-01-17T00:02:29.285327Z",
     "start_time": "2024-01-17T00:02:27.952178Z"
    }
   },
   "id": "514a11eb7b3ce155"
  },
  {
   "cell_type": "markdown",
   "source": [
    "# How do we calculate splicing rates from the read data?\n",
    "Splicing rates technically do not need to be calculated using experimental methods fancier than 4su_seq, because the problem formulation allows calculation of splicing halflife from the read data, given that we only harvest transcripts that are elongated in the last X minutes (only one round of metabolic labeling like in 4sU-seq).\n",
    "First, pull out all the reads that are supposed to be from transcripts that are elongated in the past X minutes. Question: what reads do we pull here? Basically, for each region of the genome, we know approximately how many transcripts that have been elongated during each of the time window.\n",
    "\n",
    "Given the position of the intron within the gene (U: length from the start of the gene to the start of the intron, I: length of the intron, D: length from the end of the intron to the PAS), and also the elongation rates of WHAT? (intron, run-through-regions, other parts of the gene), we estimate the intron splicing half life using the procedure outlined in Athma's paper. However, here are a few things to note or to answer first:\n",
    "- In Athma's paper, there is one elongation rate shared throughout every region of the genome. Therefore, the probability that a polymerase end at each position on the genome set to be a uniform distribution. However, in our case, that observation may not be true. \n",
    "- The general framework is, if the location of the polymerase is x, then there is an associated probability of intron being spliced based on the transcript end point (where polymerase is). $P(splicing | x) = 1- e^{\\frac{x}{h*r}}$, where $h$ and $r$ represent the intron's halflife and elongation rate. At the same time, based on the elongation rates (and what else?), the probability of a polymerase being at a particular position at each moment in time can follow certain distribution (not a constant uniform distribution anymore). We have to intergrate through all the possible values of the polymerase endpoint to calculate the expected proportion of transcripts that are spliced/ unspliced at one point in time. \n",
    "- In 4SU experiment, the labeling time point is 5 minute, and that's used to determine the furthest that a transcript can go. Is it still applicable in our case of SLAM-seq experiment? \n",
    "- In Athma's paper, was the expeirment being done such that towards the ends, we only obtained the reads that are created in the last 5 minutes? \n",
    "- However, in our case, the elongation rate is different for different regions of the genome. Therefore, the probability of splicing at each position is different. P(splicing | x) = f(x, elongation_rate)."
   ],
   "metadata": {
    "collapsed": false
   },
   "id": "a5ddc4811228c3e4"
  },
  {
   "cell_type": "markdown",
   "source": [
    "# If we calculate splicing half-life based on what Athma Pai did, what would we get?\n",
    "- At t=3 (or equivalently 15 minutes after t-0), we obaserved a ratio of EE/IE reads ratio. \n",
    "- This ratio, according to Pai et al., 2017's paper, equal to $\\frac{\\frac{hr}{log(2)}(1-2^{-\\frac{D+Lr}{hr}})}{D+Lr-\\frac{hr}{log(2)}(1-2^{-\\frac{D+Lr}{hr}})}$, where \n",
    "\n",
    "    - $h$ is the splicing half-life of the intron, i.e. what we are trying to find\n",
    "    - $r$ is the elongation rate assumed to be uniformed across the gene (which is not true in our case)\n",
    "    - $D$ is the length between end of intron to the PAS\n",
    "    - $L$ is the length of the labeling period. In our case, it would be 15 minutes (from t=0 to t=3). \n",
    "\n",
    "The natural follow up question is: How did Pai el al., 2017 assume the elongation rate to be? Answer: in section 'Estimating splicing rates from 4sU-RNA-seq data', the method stated that the longation rates are assumed to be constant across the gene, at 1500 nt/min, derived from literature (Ardehali and Lis, 2009, Garcia et al., 2013).\n",
    "\n",
    "- So, if we take the supposedly observed junction read ratio at t=5, 10,15 minutes based on simulation data, can we calculate $h$? If so, are they consistent across all timepoints (they should be)?\n"
   ],
   "metadata": {
    "collapsed": false
   },
   "id": "e2f3461d65c00ee0"
  },
  {
   "cell_type": "code",
   "execution_count": null,
   "outputs": [],
   "source": [
    "from scipy.optimize import fsolve\n",
    "\n",
    "def calculate_spliceH_from_junctRatio(junct_ratio, D, L, r, init_guess:float=100):\n",
    "    # junct_ratio = EE/EI\n",
    "    # D = length between end of intron to the PAS\n",
    "    # L = length of the labeling period (in minutes)\n",
    "    # r = elongation rate (in nt/min)\n",
    "    D_prime = D + L*r # the maximum end point of a transcript from the end of this intron during the labelling period\n",
    "    def func(h_prime):\n",
    "        return (1 / ((D_prime/h_prime) * (1 - np.exp(-D_prime / h_prime))-1)) - junct_ratio\n",
    "    h_prime_solution = fsolve(func, init_guess)\n",
    "    h_prime_solution = h_prime_solution[0]\n",
    "    h_solution = h_prime_solution* np.log(2) / r \n",
    "    return h_solution"
   ],
   "metadata": {
    "collapsed": false
   },
   "id": "93fe60da3e324734"
  },
  {
   "cell_type": "code",
   "execution_count": null,
   "outputs": [],
   "source": [
    "gtf_df"
   ],
   "metadata": {
    "collapsed": false
   },
   "id": "5805b50c7f01aa9c"
  },
  {
   "cell_type": "code",
   "execution_count": null,
   "outputs": [],
   "source": [
    "junctRatio_df['junct_ratio'] = junctRatio_df['ie_reads'] / junctRatio_df['ee_reads']\n",
    "junctRatio_df"
   ],
   "metadata": {
    "collapsed": false
   },
   "id": "e5e1945cb46ad866"
  },
  {
   "cell_type": "code",
   "execution_count": null,
   "outputs": [],
   "source": [
    "init_guess = 5\n",
    "print(calculate_spliceH_from_junctRatio(0.252101, D=15000, L=5, r=1000, init_guess=init_guess))\n",
    "print(calculate_spliceH_from_junctRatio(0.189873, D=15000, L=10, r=1000, init_guess=init_guess))\n",
    "print(calculate_spliceH_from_junctRatio(0.097701, D=15000, L=15, r=1000, init_guess=init_guess))"
   ],
   "metadata": {
    "collapsed": false
   },
   "id": "67b2643f3f6d88d9"
  },
  {
   "cell_type": "markdown",
   "source": [
    "# Plot the junction reads assgined to each timepoint (time-tagged) based on data collected from the last time point (this is what we will observe in real scenario). "
   ],
   "metadata": {
    "collapsed": false
   },
   "id": "b62a6178a10f51a0"
  },
  {
   "cell_type": "code",
   "execution_count": null,
   "outputs": [],
   "source": [
    "plot_df = viz.plot_taggedTime_junctions_lastExp(exp_list, feature='intron_1')\n",
    "# print(plot_df)"
   ],
   "metadata": {
    "collapsed": false
   },
   "id": "3d081a1b142dbc0b"
  },
  {
   "cell_type": "code",
   "execution_count": null,
   "outputs": [],
   "source": [
    "plot_df = viz.plot_taggedTime_junctions_lastExp(exp_list, feature='intron_2')\n",
    "# print(plot_df)"
   ],
   "metadata": {
    "collapsed": false
   },
   "id": "c08352eb280df2ce"
  },
  {
   "cell_type": "markdown",
   "source": [
    "# 3, Obtain the number of junction reads at each time point (may not be what we observe in real scenario). "
   ],
   "metadata": {
    "collapsed": false
   },
   "id": "16d655c1f1b68b5d"
  },
  {
   "cell_type": "code",
   "execution_count": null,
   "outputs": [],
   "source": [
    "junctRatio_df = viz.plot_junctreads_over_time(exp_list, feature='intron_1')"
   ],
   "metadata": {
    "collapsed": false
   },
   "id": "2896a0757371b045"
  },
  {
   "cell_type": "code",
   "execution_count": null,
   "outputs": [],
   "source": [
    "junctRatio_df= viz.plot_junctreads_over_time(exp_list, feature='intron_2')"
   ],
   "metadata": {
    "collapsed": false
   },
   "id": "f716420602d24b5e"
  },
  {
   "cell_type": "markdown",
   "source": [
    "#  1, Draw the read coverage at each time point and then draw an overlapping read coverage across diffferent time points, like Fig. 2 in the Pai et al., paper"
   ],
   "metadata": {
    "collapsed": false
   },
   "id": "b195341bd535b4c0"
  },
  {
   "cell_type": "code",
   "execution_count": null,
   "outputs": [],
   "source": [
    "fig = viz.plot_total_read_coverage(exp_list, smooth_N=1, gap_N=200, xaxis_N=50, width=1)"
   ],
   "metadata": {
    "collapsed": false
   },
   "id": "13f6757d3538f2cf"
  },
  {
   "cell_type": "markdown",
   "source": [
    "#  2, Draw the read coverage of the last timepoint, with the read distribution colored by the time point that the read was created\n",
    "This should simulate the case of Slam-seq, where we label the transcripts at different time points and then sequence them all together\n",
    "for each read that we harvest in the last time point, we should be able to tell whether it was created/elongated before time point t \n",
    "a transcript can be sectioned into segments corresponding to when they were created/elongated"
   ],
   "metadata": {
    "collapsed": false
   },
   "id": "3eb2b7464a1ec921"
  },
  {
   "cell_type": "code",
   "execution_count": null,
   "outputs": [],
   "source": [
    "fig = viz.plot_timeTagged_read_coverage(exp_list, smooth_N=1, gap_N=100, xaxis_N=50)"
   ],
   "metadata": {
    "collapsed": false
   },
   "id": "89eeb979045cb761"
  },
  {
   "cell_type": "code",
   "execution_count": null,
   "outputs": [],
   "source": [
    "gtf_df"
   ],
   "metadata": {
    "collapsed": false
   },
   "id": "9ebf5f364e7529e9"
  },
  {
   "cell_type": "code",
   "execution_count": null,
   "outputs": [],
   "source": [
    "for exp_idx, exp in enumerate(exp_list):\n",
    "    print(len(exp.transcripts))"
   ],
   "metadata": {
    "collapsed": false
   },
   "id": "a3dcc5aa86cca4a8"
  },
  {
   "cell_type": "code",
   "execution_count": null,
   "outputs": [],
   "source": [
    "fig = viz.plot_all_times_endsite(exp_list, lower_idx=0, upper_idx=1000, line_width=2, y_order_by_time=True)\n",
    "fig.show()"
   ],
   "metadata": {
    "collapsed": false
   },
   "id": "3cd92d87188aaedf"
  },
  {
   "cell_type": "code",
   "execution_count": null,
   "outputs": [],
   "source": [
    "fig = viz.plot_all_times_endsite(exp_list, lower_idx=0, upper_idx=1000, line_width=2, y_order_by_time=False)\n",
    "fig.show()"
   ],
   "metadata": {
    "collapsed": false
   },
   "id": "1be91952c9bb4de8"
  },
  {
   "cell_type": "code",
   "execution_count": null,
   "outputs": [],
   "source": [
    "trans_idx = 324\n",
    "print(exp_list[0].transcripts[trans_idx].endpoint, exp_list[0].transcripts[trans_idx].cleaved_prob, exp_list[0].transcripts[trans_idx].is_cleaved)\n",
    "print(exp_list[1].transcripts[trans_idx].endpoint, exp_list[1].transcripts[trans_idx].cleaved_prob, exp_list[1].transcripts[trans_idx].is_cleaved)\n",
    "print(exp_list[2].transcripts[trans_idx].endpoint, exp_list[2].transcripts[trans_idx].cleaved_prob, exp_list[2].transcripts[trans_idx].is_cleaved)\n",
    "print(exp_list[3].transcripts[trans_idx].endpoint, exp_list[3].transcripts[trans_idx].cleaved_prob, exp_list[3].transcripts[trans_idx].is_cleaved)"
   ],
   "metadata": {
    "collapsed": false
   },
   "id": "4b1e2a190f56fcc6"
  },
  {
   "cell_type": "markdown",
   "source": [
    "# Plot 1: Is the simulation of splicing correct?"
   ],
   "metadata": {
    "collapsed": false
   },
   "id": "5965026fa92ef9bc"
  },
  {
   "cell_type": "markdown",
   "source": [
    "Given the transcripts at time points t1 and t2, we plot the splicing status of transcripts at intron_1 at these two time points\n"
   ],
   "metadata": {
    "collapsed": false
   },
   "id": "74095cd31d064ef8"
  },
  {
   "cell_type": "code",
   "execution_count": null,
   "outputs": [],
   "source": [
    "fig = viz.plot_splicing_multiple_timepoints(exp_list, nrows=len(exp_list), ncols=1, max_x=35000, max_y=570, linewidth=2)\n",
    "fig.show()"
   ],
   "metadata": {
    "collapsed": false
   },
   "id": "bed94358312c266b"
  },
  {
   "cell_type": "markdown",
   "source": [
    "# Plot 2: Is the simulation of elongation correct?"
   ],
   "metadata": {
    "collapsed": false
   },
   "id": "656dfaa884eae660"
  },
  {
   "cell_type": "markdown",
   "source": [
    "Collect all the transcripts that end before i2 at t0, and plot their end points at t1 (do not count newly created transcripts between t0 and t1)"
   ],
   "metadata": {
    "collapsed": false
   },
   "id": "b1ed52d62de53b06"
  },
  {
   "cell_type": "code",
   "execution_count": null,
   "outputs": [],
   "source": [
    "# right before intron 1, which has txrate 1KB/minute\n",
    "fig = viz.plot_elongation_two_timepoints(exp_list[0], exp_list[1], (0,5000), sort_values=[0,1])\n"
   ],
   "metadata": {
    "collapsed": false
   },
   "id": "f47e0b1232853305"
  },
  {
   "cell_type": "code",
   "execution_count": null,
   "outputs": [],
   "source": [
    "# right before intron 2, which has txrate 2KB/min\n",
    "fig = viz.plot_elongation_two_timepoints(exp_list[2], exp_list[3], (12000,17000), sort_values=[2,3])"
   ],
   "metadata": {
    "collapsed": false
   },
   "id": "4a8aa1140eb2cea6"
  },
  {
   "cell_type": "markdown",
   "source": [
    "## Is the simulation of cleavage correct?"
   ],
   "metadata": {
    "collapsed": false
   },
   "id": "d988eade205d1624"
  },
  {
   "cell_type": "code",
   "execution_count": null,
   "outputs": [],
   "source": [
    "fig = viz.plot_elongation_two_timepoints(exp_list[0], exp_list[1], (24000,35000), sort_values=[0,1])\n"
   ],
   "metadata": {
    "collapsed": false
   },
   "id": "619cb0f1a3b93052"
  },
  {
   "cell_type": "code",
   "execution_count": null,
   "outputs": [],
   "source": [
    "viz.calculate_cleavage_stats(exp_list)"
   ],
   "metadata": {
    "collapsed": false
   },
   "id": "7ca4896b9d903db4"
  },
  {
   "cell_type": "markdown",
   "source": [
    "Looking at the statistics reported above, you can see that the proportion of transcript that are uncleaved (but ready to be cleaved, endpoint > PAS_end) at t=i that are then cleaved cleavage_halflife minutes later at t=i+1 is above 0.5, which is NOT what we expect (we were expecting 0.5). I actually went back and investigated the reason for this and found that the concept of half-life, as simulated in our model, is that starting at the moment that the transcript is ready to be cleaved (endpoint=PAS_end), the transcript has a 50% chance of being cleaved in the next cleavage_halflife minutes. This is different from the concept of half-life that we imagine here (with the reported statistics), where the half-life is the time it takes for the number of uncleaved but ready to be cleaved (endpoint>PAS_end instead of endpoint==PAS_end exactly) transcripts to be reduced by half. At t=0, the uncleaved transcripts are uncleaved but their endpoints range from PAS_end to +infinity (more like to RTR_end), therefore, at t=5 minutes (halflife of cleavage), the number of uncleaved transcripts that are cleaved since t=0 is MORE than half of the total number of uncleaved transcripts at t=0. If at t=0, all the uncleaved transcripts have endpoint exactly at PAS_end, then at t=5 minutes, the number of uncleaved transcripts that are cleaved since t=0 is exactly half of the total number of uncleaved transcripts at t=0."
   ],
   "metadata": {
    "collapsed": false
   },
   "id": "a3174ba8cceae1ce"
  },
  {
   "cell_type": "markdown",
   "source": [
    "# Visualize the reads"
   ],
   "metadata": {
    "collapsed": false
   },
   "id": "764574b163ccbff4"
  },
  {
   "cell_type": "code",
   "execution_count": null,
   "outputs": [],
   "source": [
    "def plot_read_coverage(reads_df, gtf_df, N=1000):\n",
    "    # read_coverage = viz.count_read_coverage(reads_df, gtf_df)\n",
    "    gene_start = gtf_df['start'].iloc[0]\n",
    "    gene_end = gtf_df['end'].iloc[-1]\n",
    "    # now plot a bar plot showing the read coverage, x_axis: position along gene, y_axis: number of reads\n",
    "    plot_df = read_coverage.reset_index()\n",
    "    plot_df.columns = ['position', 'read_coverage']\n",
    "    plt.figure(figsize=(10, 6))\n",
    "    sns.lineplot(x='position', y='read_coverage', data=plot_df)\n",
    "    plt.xlim(gene_start, gene_end)\n",
    "    plt.ylabel('Number of reads')\n",
    "    plt.xlabel('Position along gene')\n",
    "    plt.title('Read coverage')\n",
    "    plt.grid(True)\n",
    "    plt.show()"
   ],
   "metadata": {
    "collapsed": false
   },
   "id": "dfd10d8a8151c957"
  },
  {
   "cell_type": "code",
   "execution_count": null,
   "outputs": [],
   "source": [
    "plot_read_coverage(reads_df, gtf_df)"
   ],
   "metadata": {
    "collapsed": false
   },
   "id": "366ca49725a0b745"
  },
  {
   "cell_type": "markdown",
   "source": [
    "# Create plots of function reads at different time points"
   ],
   "metadata": {
    "collapsed": false
   },
   "id": "37baee5e8d4035e8"
  }
 ],
 "metadata": {
  "kernelspec": {
   "name": "rna_rate",
   "language": "python",
   "display_name": "Python (rna_rate)"
  },
  "language_info": {
   "codemirror_mode": {
    "name": "ipython",
    "version": 2
   },
   "file_extension": ".py",
   "mimetype": "text/x-python",
   "name": "python",
   "nbconvert_exporter": "python",
   "pygments_lexer": "ipython2",
   "version": "2.7.6"
  }
 },
 "nbformat": 4,
 "nbformat_minor": 5
}
