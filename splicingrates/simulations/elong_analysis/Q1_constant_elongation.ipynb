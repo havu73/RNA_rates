{
 "cells": [
  {
   "cell_type": "markdown",
   "source": [
    "First question is: If I want to calculate the elongation rates at resolution of 200-bp, and in this simulation the elongation rate is constant across the gene, can I recover the elongation rate from the data?"
   ],
   "metadata": {
    "collapsed": false
   },
   "id": "902216aad3d416e1"
  },
  {
   "cell_type": "code",
   "execution_count": 1,
   "outputs": [
    {
     "name": "stdout",
     "output_type": "stream",
     "text": [
      "importing simulate_multiple_experiments\n"
     ]
    }
   ],
   "source": [
    "import sys\n",
    "import os\n",
    "# sys.path.append(os.path.abspath(os.path.join(os.path.dirname(__file__), '..')))  # this line does not work because it is not designed to be run within the notebook\n",
    "os.chdir('/gladstone/engelhardt/home/hvu/source/RNA_rates/splicingrates/simulations')\n",
    "import numpy as np\n",
    "import unittest\n",
    "import pandas as pd\n",
    "import visualize_simulations as viz\n",
    "import transcription.simulate_multiple_experiments as sim\n",
    "import transcription.helper as helper\n",
    "from estimates.elongation import estElong\n",
    "from estimates.elongation import drop_trailing_zeros\n",
    "from pandas.testing import assert_series_equal\n",
    "target_exp = 5\n",
    "num_total_transcript_millions = 100\n",
    "ONE_KB=1000\n",
    "degrade_rate = 0.00\n",
    "intron_h = 5\n",
    "PAS_h=5\n",
    "RTR=500\n",
    "lambda_init = 2 # average number of burst events per minute (burst event is the event where a burst_size transcripts are created around the same time)\n",
    "burst_size = 10 # number of transcripts created in a burst event\n",
    "wiggle_room = 0.3 # the wiggle room for the burst event. See the comments in function Experiment.init_bursting_transcripts to understand the meaning of this parameter. If not sure, don't modify it.\n",
    "# if I want to simulate situation such that there is no read being generated from fragments (only the whole transcripts are sequenced), the following parameters should be set carefully:\n",
    "eta_val=helper.DFT_ETA_VALUE  # the scale fo weibull distribution for the fragment length\n",
    "insertsize_min = -1 #200  #filter fragments minimum length\n",
    "insertsize_max = -1 #300  # filter fragments maximum length\n",
    "read_length = -1 #150 # the length of the reads\n",
    "frag_func= 'weibull_edge' # whether we will simulate the fragmentation of transcripts based on the weibull distribution or the uniform fragmentation method\n",
    "unif_avg_frag_len=250 # the desired average fragment length if we use the uniform fragmentation method\n",
    "# if I set the read values to -1, the program will just generate fragments and not get rid of any portion of the fragments.\n",
    "simulate_cleavage=False ## for this problem, we don't need to simulate cleavage because we really only care about calculating the elongation speed of the transcripts. We skip splicing and cleavage for now.\n",
    "PDB = False  # whether we simulate a system where there is no existing transcripts, and instead we used PDB to stop the transcripts from elongation, and let the elongation to start PDB_time minutes before we introduce the first tag\n",
    "label_time = np.arange(4) if PDB else np.arange(3)\n",
    "time_interval=5\n",
    "label_time = time_interval*label_time\n",
    "num_timepoints = len(label_time)\n",
    "max_time_for_equilibrium = 50\n",
    "save_folder = None # './exon2_4Fold/'\n"
   ],
   "metadata": {
    "collapsed": false,
    "ExecuteTime": {
     "end_time": "2024-07-05T21:47:24.434898Z",
     "start_time": "2024-07-05T21:47:24.261469Z"
    }
   },
   "id": "abf8c321e4862566"
  },
  {
   "cell_type": "code",
   "execution_count": 3,
   "outputs": [
    {
     "name": "stdout",
     "output_type": "stream",
     "text": [
      "inside generate_exp_given_one_gtf\n",
      "before adding new experiments\n",
      "1050\n",
      "1160\n",
      "1240\n"
     ]
    }
   ],
   "source": [
    "# first generate the experiments with different ground truth elongation rates\n",
    "true_h = 0.11\n",
    "save_folder = f'./constant_elongation/h_{true_h}/'\n",
    "os.makedirs(save_folder, exist_ok=True)\n",
    "gtf_df = sim.create_variable_gtf_df(nExons=2, length_fold_list=[1.65, 1.65, 1.65],\n",
    "                                    elong_fold_list=[true_h, true_h, true_h], intronH_fold_list=[np.inf] * 3,\n",
    "                                    SIM_FEAT_LEN=ONE_KB)\n",
    "exp_list = sim.generate_exp_given_one_gtf(gtf_df, save_folder=None, label_time=label_time,\n",
    "                                          target_exp=target_exp,\n",
    "                                          num_total_transcript_millions=num_total_transcript_millions,\n",
    "                                          lambda_init=lambda_init, burst_size=burst_size,\n",
    "                                          wiggle_room=wiggle_room, eta_val=eta_val,\n",
    "                                          insertsize_min=insertsize_min, insertsize_max=insertsize_max,\n",
    "                                          read_length=read_length, simulate_cleavage=simulate_cleavage, PDB=PDB,\n",
    "                                          max_time_for_equilibrium=max_time_for_equilibrium,\n",
    "                                          frag_func=frag_func)\n",
    "endpoint_df = viz.get_endpoints_across_time(exp_list)\n",
    "coverage_df = viz.count_timeDep_read_coverage(exp_list[-1], endpoint_df, N=1, num_timepoints=len(exp_list))\n",
    "coverage_df.to_csv(f'{save_folder}/coverage.csv.gz', header = True, index = False, compression='gzip', sep = '\\t')"
   ],
   "metadata": {
    "collapsed": false,
    "ExecuteTime": {
     "end_time": "2024-07-03T23:08:18.055061Z",
     "start_time": "2024-07-03T23:07:49.249194Z"
    }
   },
   "id": "f15852aa9c454ca8"
  },
  {
   "cell_type": "code",
   "execution_count": 5,
   "outputs": [
    {
     "name": "stdout",
     "output_type": "stream",
     "text": [
      "The object assumes that the length and coordinates of features in both coverage_df and gtf_df are in the same units (bp or KB)\n",
      "If this assumption is not met, the object may not crash but may result in seriously wrong estimates of elongation rates\n",
      "\n",
      "Starting estimating the elongation rates\n",
      "fixed. py[i] - curr_y:  0.01695834418504205\n",
      "py[i]:  131.0\n",
      "curr_y:  130.98304165581496\n",
      "fixed. py[i] - curr_y:  0.01695834418504205\n",
      "py[i]:  131.0\n",
      "curr_y:  130.98304165581496\n",
      "fixed. py[i] - curr_y:  0.01695834418504205\n",
      "py[i]:  131.0\n",
      "curr_y:  130.98304165581496\n",
      "fixed. py[i] - curr_y:  0.01695834418504205\n",
      "py[i]:  131.0\n",
      "curr_y:  130.98304165581496\n",
      "fixed. py[i] - curr_y:  0.010150341705539745\n",
      "py[i]:  118.0\n",
      "curr_y:  117.98984965829446\n",
      "fixed. py[i] - curr_y:  0.1403044999548797\n",
      "py[i]:  91.06540361296422\n",
      "curr_y:  90.92509911300934\n",
      "fixed. py[i] - curr_y:  1.423242846675862\n",
      "py[i]:  370.42324284667586\n",
      "curr_y:  369.0\n",
      "fixed. py[i] - curr_y:  0.21086475937545401\n",
      "py[i]:  348.0\n",
      "curr_y:  347.78913524062455\n",
      "fixed. py[i] - curr_y:  0.23801658310276252\n",
      "py[i]:  343.0\n",
      "curr_y:  342.76198341689724\n",
      "fixed. py[i] - curr_y:  1.4026318327732952\n",
      "py[i]:  331.0\n",
      "curr_y:  329.5973681672267\n",
      "fixed. py[i] - curr_y:  1.4026318327732952\n",
      "py[i]:  331.0\n",
      "curr_y:  329.5973681672267\n",
      "fixed. py[i] - curr_y:  1.2975777529071593\n",
      "py[i]:  291.34512658880124\n",
      "curr_y:  290.0475488358941\n",
      "fixed. py[i] - curr_y:  1.2410785789123793\n",
      "py[i]:  463.2410785789124\n",
      "curr_y:  462.0\n",
      "fixed. py[i] - curr_y:  0.4657926293047012\n",
      "py[i]:  461.4657926293047\n",
      "curr_y:  461.0\n",
      "fixed. py[i] - curr_y:  2.146936651964836\n",
      "py[i]:  443.14693665196484\n",
      "curr_y:  441.0\n",
      "fixed. py[i] - curr_y:  1.9855641945972593\n",
      "py[i]:  431.0\n",
      "curr_y:  429.01443580540274\n"
     ]
    }
   ],
   "source": [
    "# now we will estimate the elongation rates from the data\n",
    "from estimates import elongation\n",
    "import importlib\n",
    "importlib.reload(elongation)\n",
    "from estimates.elongation import estElong\n",
    "def calculate_h_one_trueH(true_h):\n",
    "    save_folder = f'./constant_elongation/h_{true_h}/'\n",
    "    coverage_df = pd.read_csv(f'{save_folder}/coverage.csv.gz', sep = '\\t', index_col=None, header=0)\n",
    "    coverage_df.columns = [0,1,2, 'position']\n",
    "    gtf_df = sim.create_variable_gtf_df(nExons=2, length_fold_list=[1.65, 1.65, 1.65],\n",
    "                                        elong_fold_list=[true_h, true_h, true_h], intronH_fold_list=[np.inf] * 3,\n",
    "                                        SIM_FEAT_LEN=ONE_KB)\n",
    "    elong_estimator = estElong(coverage_df, gtf_df)\n",
    "    elong_estimator.estimate()\n",
    "    df = pd.DataFrame({'x0': elong_estimator.x0, 'x1': elong_estimator.x1})\n",
    "    df.to_csv(f'{save_folder}/x0_x1.csv.gz', header = True, index = False, compression='gzip', sep = '\\t')\n",
    "    return\n",
    "    elong_estimator.draw_regression_lines(save_fn=f'{save_folder}/test_estElong_regression.png', show=True)\n",
    "    elong_estimator.save_estimates(f'{save_folder}/pred_h.csv.gz')\n",
    "    return \n",
    "\n",
    "# calculate_h_one_trueH(0.132)\n",
    "# calculate_h_one_trueH(0.11)\n",
    "# calculate_h_one_trueH(0.165)\n",
    "# calculate_h_one_trueH(0.22)\n",
    "# calculate_h_one_trueH(0.33)\n",
    "# calculate_h_one_trueH(0.66)\n",
    "calculate_h_one_trueH(1.65)"
   ],
   "metadata": {
    "collapsed": false,
    "ExecuteTime": {
     "end_time": "2024-07-05T22:14:36.818858Z",
     "start_time": "2024-07-05T22:10:00.422490Z"
    }
   },
   "id": "64cf18bfc80ded4e"
  },
  {
   "cell_type": "code",
   "execution_count": 18,
   "outputs": [
    {
     "data": {
      "text/plain": "Text(0.5, 1.0, 'Predicted h vs True h')"
     },
     "execution_count": 18,
     "metadata": {},
     "output_type": "execute_result"
    },
    {
     "data": {
      "text/plain": "<Figure size 1000x600 with 1 Axes>",
      "image/png": "[encoded data removed]"
     },
     "metadata": {},
     "output_type": "display_data"
    }
   ],
   "source": [
    "true_h_list = [1.65, 0.66, 0.33, 0.22, 0.165, 0.132, 0.11]\n",
    "pred_h_fn_list = [f'./constant_elongation/h_{true_h}/pred_h.csv.gz' for true_h in true_h_list]\n",
    "def read_pred_h(fn):\n",
    "    df = pd.read_csv(fn, sep = '\\t', index_col=None, header=0)\n",
    "    df.rename({'elongation_rate': 'pred_h'}, axis=1, inplace=True)\n",
    "    true_h = float(fn.split('/')[-2].split('_')[-1])  # from /path/to/truth_h/pred_h.csv.gz, get the true h\n",
    "    df['true_h'] = true_h\n",
    "    return df \n",
    "pred_h_df = pd.concat([read_pred_h(fn) for fn in pred_h_fn_list])\n",
    "pred_h_df = pred_h_df[(pred_h_df['pred_h'] > 0)  & (pred_h_df['pred_h']<3)]  # remove the negative values\n",
    "# draw a plot such that x-axis is the true h, and y-axis is the predicted h\n",
    "import matplotlib.pyplot as plt\n",
    "import seaborn as sns\n",
    "sns.set(style=\"whitegrid\")\n",
    "plt.figure(figsize=(10, 6))\n",
    "sns.scatterplot(x='true_h', y='pred_h', data=pred_h_df)\n",
    "plt.plot([0, 2], [0, 2], color='red', linewidth=1)\n",
    "plt.xlabel('True h')\n",
    "plt.ylabel('Predicted h')\n",
    "plt.title('Predicted h vs True h')"
   ],
   "metadata": {
    "collapsed": false,
    "ExecuteTime": {
     "end_time": "2024-07-04T00:31:33.468130Z",
     "start_time": "2024-07-04T00:31:33.281678Z"
    }
   },
   "id": "998beb8083c7600"
  },
  {
   "cell_type": "code",
   "execution_count": null,
   "outputs": [],
   "source": [],
   "metadata": {
    "collapsed": false
   },
   "id": "488578ad07538b4c"
  }
 ],
 "metadata": {
  "kernelspec": {
   "name": "new_rna",
   "language": "python",
   "display_name": "Python (new_rna)"
  },
  "language_info": {
   "codemirror_mode": {
    "name": "ipython",
    "version": 2
   },
   "file_extension": ".py",
   "mimetype": "text/x-python",
   "name": "python",
   "nbconvert_exporter": "python",
   "pygments_lexer": "ipython2",
   "version": "2.7.6"
  }
 },
 "nbformat": 4,
 "nbformat_minor": 5
}
