{
 "cells": [
  {
   "cell_type": "code",
   "id": "initial_id",
   "metadata": {
    "collapsed": true,
    "jupyter": {
     "is_executing": true
    }
   },
   "source": [
    "from run_solvers import findA, simulate_A\n",
    "import numpy as np\n",
    "import pandas as pd\n",
    "\n",
    "from splicingrates.simulations.debug import h_bins\n",
    "\n",
    "true_h = 1\n",
    "label_time = 5\n",
    "G = 15\n",
    "N = 15000\n",
    "h_bin = 5\n",
    "distance = true_h * label_time\n",
    "A, breaks = simulate_A(N, distance, G, h_bin)"
   ],
   "outputs": [],
   "execution_count": null
  },
  {
   "metadata": {},
   "cell_type": "code",
   "outputs": [],
   "execution_count": null,
   "source": "",
   "id": "dde1a03eec4c4bb9"
  }
 ],
 "metadata": {
  "kernelspec": {
   "display_name": "Python 3",
   "language": "python",
   "name": "python3"
  },
  "language_info": {
   "codemirror_mode": {
    "name": "ipython",
    "version": 2
   },
   "file_extension": ".py",
   "mimetype": "text/x-python",
   "name": "python",
   "nbconvert_exporter": "python",
   "pygments_lexer": "ipython2",
   "version": "2.7.6"
  }
 },
 "nbformat": 4,
 "nbformat_minor": 5
}
