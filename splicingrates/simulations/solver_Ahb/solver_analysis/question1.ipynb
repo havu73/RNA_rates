{
 "cells": [
  {
   "cell_type": "code",
   "execution_count": null,
   "id": "initial_id",
   "metadata": {
    "collapsed": true
   },
   "outputs": [],
   "source": [
    ""
   ]
  },
  {
   "metadata": {
    "ExecuteTime": {
     "end_time": "2024-11-07T22:16:01.165524Z",
     "start_time": "2024-11-07T22:16:00.122463Z"
    }
   },
   "cell_type": "code",
   "source": [
    "from crypt import methods\n",
    "\n",
    "import numpy as np\n",
    "import matplotlib.pyplot as plt\n",
    "import pandas as pd\n",
    "import seaborn as sns\n",
    "import os\n",
    "import plot_analysis_result as plot\n",
    "import importlib\n",
    "importlib.reload(plot)\n",
    "input_folder = '/gladstone/engelhardt/lab/hvu/RNA_rates/solver_analysis/constant/after_Smooth/question_1'\n",
    "output_folder = '/gladstone/engelhardt/lab/hvu/RNA_rates/solver_analysis/constant/after_Smooth/question_1'\n",
    "os.makedirs(output_folder, exist_ok=True)\n",
    "import importlib\n",
    "importlib.reload(plot)\n",
    "result_df = plot.read_all_result_files(input_folder, methods=['simpleSmooth'])"
   ],
   "id": "3d95cc038370fb0f",
   "outputs": [
    {
     "name": "stderr",
     "output_type": "stream",
     "text": [
      "/tmp/ipykernel_3391981/3894103106.py:1: DeprecationWarning: 'crypt' is deprecated and slated for removal in Python 3.13\n",
      "  from crypt import methods\n"
     ]
    },
    {
     "name": "stdout",
     "output_type": "stream",
     "text": [
      "       N     G  time_traverse_gene  label_time  h_bin  seed  \\\n",
      "0  15000  15.0               150.0           5  0.001  9999   \n",
      "1  15000  15.0               150.0           5  0.100  9999   \n",
      "2  15000  15.0               150.0           5  0.500  9999   \n",
      "3  15000  15.0               150.0           5  1.000  9999   \n",
      "4  15000  15.0               150.0           5  2.000  9999   \n",
      "\n",
      "                                           output_fn  wMSE_simpleSmooth  \\\n",
      "0  /gladstone/engelhardt/lab/hvu/RNA_rates/solver...           0.010125   \n",
      "1  /gladstone/engelhardt/lab/hvu/RNA_rates/solver...           0.002725   \n",
      "2  /gladstone/engelhardt/lab/hvu/RNA_rates/solver...           0.001570   \n",
      "3  /gladstone/engelhardt/lab/hvu/RNA_rates/solver...           0.001506   \n",
      "4  /gladstone/engelhardt/lab/hvu/RNA_rates/solver...           0.001418   \n",
      "\n",
      "   wFC_simpleSmooth  \n",
      "0          0.896937  \n",
      "1          0.422206  \n",
      "2          0.387492  \n",
      "3          0.384552  \n",
      "4          0.373119  \n"
     ]
    }
   ],
   "execution_count": 2
  },
  {
   "metadata": {},
   "cell_type": "markdown",
   "source": "",
   "id": "b3066aedad6dd9b4"
  },
  {
   "metadata": {},
   "cell_type": "markdown",
   "source": "Heatmap of performance when we vary h_bin and true_h",
   "id": "ce6c99bf80881261"
  },
  {
   "metadata": {
    "ExecuteTime": {
     "end_time": "2024-11-07T22:16:17.310787Z",
     "start_time": "2024-11-07T22:16:16.891427Z"
    }
   },
   "cell_type": "code",
   "source": [
    "def question1_plot1(result_df, metric='wFC', save_fn = None, y_max=36):\n",
    "    '''\n",
    "    This is a heatmap with:\n",
    "    - x-axis: different values of true_h\n",
    "    - y-axis: different values of h_bin\n",
    "    - heatmap: values of wMSE/wFC\n",
    "    :param result_df:\n",
    "    :param metric:\n",
    "    :param save_fn:\n",
    "    :param y_max:\n",
    "    :return:\n",
    "    '''\n",
    "    import seaborn as sns\n",
    "    import matplotlib.pyplot as plt\n",
    "    result_df['true_h'] = result_df['G']/result_df['time_traverse_gene']\n",
    "    fig, ax = plt.subplots(1, 1, figsize=(6, 6))\n",
    "    sns.heatmap(data=result_df.pivot(index='h_bin', columns='true_h', values=f'{metric}_simpleSmooth'), ax=ax)\n",
    "    ax.set_title(f'{metric} for simpleSolver')\n",
    "    x_labels = ax.get_xticklabels()\n",
    "    x_labels = [float(label.get_text()) for label in x_labels]\n",
    "    x_labels = [f'{x:.2f}' for x in x_labels]\n",
    "    ax.set_xticklabels(x_labels)\n",
    "    ax.set_xlabel('true_h')\n",
    "    plt.tight_layout()\n",
    "    if save_fn:\n",
    "        plt.savefig(save_fn)\n",
    "    return fig, ax\n",
    "\n",
    "question1_plot1(result_df, metric='wFC', save_fn=os.path.join(output_folder, 'question1_plot1.png'))\n"
   ],
   "id": "beb626a140d2556c",
   "outputs": [
    {
     "data": {
      "text/plain": [
       "(<Figure size 600x600 with 2 Axes>,\n",
       " <Axes: title={'center': 'wFC for simpleSolver'}, xlabel='true_h', ylabel='h_bin'>)"
      ]
     },
     "execution_count": 4,
     "metadata": {},
     "output_type": "execute_result"
    },
    {
     "data": {
      "text/plain": [
       "<Figure size 600x600 with 2 Axes>"
      ],
      "image/png": "[encoded data removed]"
     },
     "metadata": {},
     "output_type": "display_data"
    }
   ],
   "execution_count": 4
  },
  {
   "metadata": {},
   "cell_type": "code",
   "outputs": [],
   "execution_count": null,
   "source": "",
   "id": "f90f46dd1caa4d02"
  }
 ],
 "metadata": {
  "kernelspec": {
   "display_name": "Python 3",
   "language": "python",
   "name": "python3"
  },
  "language_info": {
   "codemirror_mode": {
    "name": "ipython",
    "version": 2
   },
   "file_extension": ".py",
   "mimetype": "text/x-python",
   "name": "python",
   "nbconvert_exporter": "python",
   "pygments_lexer": "ipython2",
   "version": "2.7.6"
  }
 },
 "nbformat": 4,
 "nbformat_minor": 5
}
